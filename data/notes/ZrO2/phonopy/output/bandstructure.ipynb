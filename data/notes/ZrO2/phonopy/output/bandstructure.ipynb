{
 "cells": [
  {
   "cell_type": "code",
   "execution_count": 1,
   "metadata": {},
   "outputs": [],
   "source": [
    "%autoreload\n",
    "\n",
    "from ase.io import read\n",
    "from phonopy import load\n",
    "\n",
    "from vibes.harmonic_analysis.dynamical_matrix import get_frequencies\n",
    "from vibes.helpers.brillouinzone import get_bands_and_labels"
   ]
  },
  {
   "cell_type": "code",
   "execution_count": 2,
   "metadata": {},
   "outputs": [],
   "source": [
    "primitive = read(\"geometry.in.primitive\", format=\"aims\")\n",
    "supercell = read(\"geometry.in.supercell\", format=\"aims\")"
   ]
  },
  {
   "cell_type": "code",
   "execution_count": 3,
   "metadata": {},
   "outputs": [],
   "source": [
    "phonon = load(\"phonopy.yaml\")\n",
    "d = phonon.dynamical_matrix"
   ]
  },
  {
   "cell_type": "code",
   "execution_count": 4,
   "metadata": {},
   "outputs": [
    {
     "data": {
      "text/plain": [
       "['G', 'X', 'U|K', 'G', 'L']"
      ]
     },
     "execution_count": 4,
     "metadata": {},
     "output_type": "execute_result"
    }
   ],
   "source": [
    "bands, labels = get_bands_and_labels(primitive, npoints=50)\n",
    "path = bands[0]\n",
    "labels"
   ]
  },
  {
   "cell_type": "code",
   "execution_count": 5,
   "metadata": {},
   "outputs": [],
   "source": [
    "x = []\n",
    "band = np.zeros((len(path), len(primitive) ** 2))\n",
    "\n",
    "for ii, q in enumerate(zip(path)):\n",
    "    x.append(np.linalg.norm(q) / np.pi)\n",
    "\n",
    "    d.set_dynamical_matrix(q)\n",
    "    D = d.get_dynamical_matrix()\n",
    "    freqs = get_frequencies(D)\n",
    "    band[ii] = freqs"
   ]
  },
  {
   "cell_type": "code",
   "execution_count": 6,
   "metadata": {},
   "outputs": [
    {
     "data": {
      "image/png": "[encoded data removed]",
      "text/plain": [
       "<Figure size 432x288 with 1 Axes>"
      ]
     },
     "metadata": {
      "needs_background": "light"
     },
     "output_type": "display_data"
    }
   ],
   "source": [
    "for ii in range(band.shape[1]):\n",
    "    plt.plot(x, band[:, ii])"
   ]
  },
  {
   "cell_type": "raw",
   "metadata": {},
   "source": [
    "from vibes.harmonic_analysis.force_constants import reshape_force_constants\n",
    "from vibes.helpers.lattice import fractional\n",
    "from vibes.helpers.lattice_points import get_lattice_points, map_I_to_iL\n",
    "from vibes.io import parse_force_constants\n",
    "from vibes.structure.convert import to_phonopy_atoms"
   ]
  },
  {
   "cell_type": "raw",
   "metadata": {},
   "source": [
    "fc = parse_force_constants('FORCE_CONSTANTS', primitive=primitive, supercell=supercell, two_dim=False)\n",
    "fc.shape"
   ]
  },
  {
   "cell_type": "raw",
   "metadata": {},
   "source": [
    "fcr = reshape_force_constants(primitive, supercell, fc)\n",
    "fcr.shape"
   ]
  },
  {
   "cell_type": "raw",
   "metadata": {},
   "source": [
    "lps, elps = get_lattice_points(primitive.cell, supercell.cell)\n",
    "len(lps), len(elps)"
   ]
  },
  {
   "cell_type": "raw",
   "metadata": {},
   "source": [
    "lps_centered = lps - sc_center\n",
    "\n",
    "I_to_iL = map_I_to_iL(primitive, supercell, lps_centered)"
   ]
  },
  {
   "cell_type": "raw",
   "metadata": {},
   "source": [
    "# (lps @ supercell.cell.reciprocal()).round(decimals=2)"
   ]
  },
  {
   "cell_type": "raw",
   "metadata": {},
   "source": [
    "for es in elps[0]:\n",
    "    # print((es @ supercell.cell.reciprocal()).round(decimals=2))\n",
    "    print(((es - sc_center) @ supercell.cell.reciprocal()).round(decimals=2))"
   ]
  },
  {
   "cell_type": "raw",
   "metadata": {},
   "source": [
    "(get_lattice_points(primitive.cell, supercell.cell)[0] @ primitive.cell.reciprocal()).round()"
   ]
  },
  {
   "cell_type": "raw",
   "metadata": {},
   "source": [
    "def _prefactor(q, r):\n",
    "    r\"\"\"Get the prefactor `exp(-2*\\pi*i * q @ r)`\"\"\"\n",
    "    phase = +2.0j * np.pi * q @ r\n",
    "    # print(phase / np.pi)\n",
    "    return np.exp(phase)\n",
    "\n",
    "\n",
    "def get_dynamical_matrices(q_points, primitive, supercell, force_constants, eps=1e-12):\n",
    "    \"\"\"build the dynamical matrix for each q_point\n",
    "\n",
    "    Parameters\n",
    "    ----------\n",
    "    q_points: list of np.ndarray\n",
    "        The list of q-points to build they dynamical matrix at\n",
    "    primitive: ase.atoms.Atoms\n",
    "        The primitive cell structure\n",
    "    supercell: ase.atoms.Atoms\n",
    "        The supecell structure\n",
    "    force_constants: np.ndarray\n",
    "        The force constant matrix\n",
    "    eps: float\n",
    "        computer tolerance\n",
    "\n",
    "    Returns\n",
    "    -------\n",
    "    list of np.ndarray\n",
    "        They dynamical matrix at each point in q_points\n",
    "    \"\"\"\n",
    "\n",
    "    lattice_points, extended_lattice_points = get_lattice_points(\n",
    "        primitive.cell, supercell.cell\n",
    "    )\n",
    "    \n",
    "    sc_center = 0.5 * supercell.cell.sum(axis=0)\n",
    "    \n",
    "    lattice_points -= sc_center\n",
    "\n",
    "    force_constants_reshaped = reshape_force_constants(\n",
    "        primitive, supercell, force_constants, lattice_points=lattice_points\n",
    "    )\n",
    "\n",
    "    ppos = primitive.get_positions()\n",
    "    masses = primitive.get_masses()\n",
    "\n",
    "    n_prim = len(primitive)\n",
    "\n",
    "    dyn_matrices = []\n",
    "\n",
    "    for qq in q_points:\n",
    "        dyn_matrix = np.zeros([n_prim, n_prim, 3, 3], dtype=complex)\n",
    "\n",
    "        for LL, shell in enumerate(extended_lattice_points):\n",
    "            weight = len(shell)\n",
    "\n",
    "            for _, lp in enumerate(shell):\n",
    "                \n",
    "                for ii in range(n_prim):\n",
    "                    for jj in range(n_prim):\n",
    "\n",
    "                        q_frac = primitive.cell.reciprocal() @ qq\n",
    "                        prefactor = _prefactor(q_frac, lp - sc_center) / weight\n",
    "                        dyn_matrix[ii, jj, :, :] += (\n",
    "                            prefactor * force_constants_reshaped[ii, 0, jj, LL]\n",
    "                        )\n",
    "\n",
    "        for ii in range(n_prim):\n",
    "            for jj in range(n_prim):\n",
    "                dyn_matrix[ii, jj, :, :] /= np.sqrt(masses[ii] * masses[jj])\n",
    "\n",
    "        # check hermiticity\n",
    "        d_ij = dyn_matrix.swapaxes(1, 2).reshape(3 * n_prim, 3 * n_prim)\n",
    "\n",
    "        diff = np.linalg.norm(d_ij - d_ij.conj().T)\n",
    "        assert diff < 1e-12, (diff, d_ij)\n",
    "\n",
    "        dyn_matrices.append(d_ij)\n",
    "\n",
    "    return np.array(dyn_matrices)"
   ]
  },
  {
   "cell_type": "raw",
   "metadata": {},
   "source": [
    "kw = {'primitive': primitive, 'supercell': supercell, 'force_constants': fc}\n",
    "dynmats = get_dynamical_matrices(path, **kw)"
   ]
  },
  {
   "cell_type": "raw",
   "metadata": {},
   "source": [
    "phonon.primitive.get_smallest_vectors()[0].shape"
   ]
  },
  {
   "cell_type": "raw",
   "metadata": {},
   "source": [
    "phonon.dynamical_matrix.set_dynamical_matrix()"
   ]
  },
  {
   "cell_type": "code",
   "execution_count": null,
   "metadata": {},
   "outputs": [],
   "source": []
  }
 ],
 "metadata": {
  "kernelspec": {
   "display_name": "Python 3",
   "language": "python",
   "name": "python3"
  },
  "language_info": {
   "codemirror_mode": {
    "name": "ipython",
    "version": 3
   },
   "file_extension": ".py",
   "mimetype": "text/x-python",
   "name": "python",
   "nbconvert_exporter": "python",
   "pygments_lexer": "ipython3",
   "version": "3.8.1"
  }
 },
 "nbformat": 4,
 "nbformat_minor": 4
}
