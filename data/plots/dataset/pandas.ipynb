{
 "cells": [
  {
   "cell_type": "code",
   "execution_count": 1,
   "metadata": {},
   "outputs": [],
   "source": [
    "import numpy as np\n",
    "import pandas as pd\n",
    "# import qgrid as qg\n",
    "\n",
    "from matplotlib import pyplot as plt\n",
    "\n",
    "%matplotlib inline\n",
    "\n",
    "import seaborn as sns\n",
    "\n",
    "sns.set_style(\"darkgrid\")\n",
    "\n",
    "from ase.formula import Formula\n",
    "\n",
    "plt.style.use(\"../plots.mplstyle\")"
   ]
  },
  {
   "cell_type": "code",
   "execution_count": 2,
   "metadata": {},
   "outputs": [
    {
     "data": {
      "text/plain": [
       "(118,\n",
       " Index(['space_group', 'n_formula', 'material', 'n_primitive', 'mp_id',\n",
       "        'sigmaA_300', 'sigmaA_500', 'sigmaA_700', 'source', 'kappa_exp',\n",
       "        'bandgap', 'kappa_bte', 'ref_exp', 'ref_bte', 'kappa_aiGK', 'comment',\n",
       "        'use'],\n",
       "       dtype='object'))"
      ]
     },
     "execution_count": 2,
     "metadata": {},
     "output_type": "execute_result"
    }
   ],
   "source": [
    "df = pd.read_csv(\"list_final.csv\")\n",
    "len(df), df.columns"
   ]
  },
  {
   "cell_type": "code",
   "execution_count": 3,
   "metadata": {},
   "outputs": [
    {
     "data": {
      "text/html": [
       "<div>\n",
       "<style scoped>\n",
       "    .dataframe tbody tr th:only-of-type {\n",
       "        vertical-align: middle;\n",
       "    }\n",
       "\n",
       "    .dataframe tbody tr th {\n",
       "        vertical-align: top;\n",
       "    }\n",
       "\n",
       "    .dataframe thead th {\n",
       "        text-align: right;\n",
       "    }\n",
       "</style>\n",
       "<table border=\"1\" class=\"dataframe\">\n",
       "  <thead>\n",
       "    <tr style=\"text-align: right;\">\n",
       "      <th></th>\n",
       "      <th>space_group</th>\n",
       "      <th>n_formula</th>\n",
       "      <th>n_primitive</th>\n",
       "      <th>sigmaA_300</th>\n",
       "      <th>sigmaA_500</th>\n",
       "      <th>sigmaA_700</th>\n",
       "      <th>bandgap</th>\n",
       "    </tr>\n",
       "  </thead>\n",
       "  <tbody>\n",
       "    <tr>\n",
       "      <th>count</th>\n",
       "      <td>118.000000</td>\n",
       "      <td>118.000000</td>\n",
       "      <td>115.000000</td>\n",
       "      <td>116.00000</td>\n",
       "      <td>99.000000</td>\n",
       "      <td>99.000000</td>\n",
       "      <td>118.000000</td>\n",
       "    </tr>\n",
       "    <tr>\n",
       "      <th>mean</th>\n",
       "      <td>192.610169</td>\n",
       "      <td>2.957627</td>\n",
       "      <td>4.521739</td>\n",
       "      <td>0.31096</td>\n",
       "      <td>0.402727</td>\n",
       "      <td>0.471313</td>\n",
       "      <td>2.576393</td>\n",
       "    </tr>\n",
       "    <tr>\n",
       "      <th>std</th>\n",
       "      <td>46.890313</td>\n",
       "      <td>1.081263</td>\n",
       "      <td>5.116790</td>\n",
       "      <td>0.08213</td>\n",
       "      <td>0.106059</td>\n",
       "      <td>0.118921</td>\n",
       "      <td>2.019763</td>\n",
       "    </tr>\n",
       "    <tr>\n",
       "      <th>min</th>\n",
       "      <td>56.000000</td>\n",
       "      <td>2.000000</td>\n",
       "      <td>2.000000</td>\n",
       "      <td>0.17000</td>\n",
       "      <td>0.220000</td>\n",
       "      <td>0.260000</td>\n",
       "      <td>0.116772</td>\n",
       "    </tr>\n",
       "    <tr>\n",
       "      <th>25%</th>\n",
       "      <td>166.000000</td>\n",
       "      <td>2.000000</td>\n",
       "      <td>2.000000</td>\n",
       "      <td>0.25000</td>\n",
       "      <td>0.320000</td>\n",
       "      <td>0.380000</td>\n",
       "      <td>1.048993</td>\n",
       "    </tr>\n",
       "    <tr>\n",
       "      <th>50%</th>\n",
       "      <td>218.500000</td>\n",
       "      <td>3.000000</td>\n",
       "      <td>3.000000</td>\n",
       "      <td>0.29000</td>\n",
       "      <td>0.370000</td>\n",
       "      <td>0.440000</td>\n",
       "      <td>1.867945</td>\n",
       "    </tr>\n",
       "    <tr>\n",
       "      <th>75%</th>\n",
       "      <td>225.000000</td>\n",
       "      <td>4.000000</td>\n",
       "      <td>4.000000</td>\n",
       "      <td>0.37250</td>\n",
       "      <td>0.500000</td>\n",
       "      <td>0.590000</td>\n",
       "      <td>3.810048</td>\n",
       "    </tr>\n",
       "    <tr>\n",
       "      <th>max</th>\n",
       "      <td>225.000000</td>\n",
       "      <td>5.000000</td>\n",
       "      <td>40.000000</td>\n",
       "      <td>0.55000</td>\n",
       "      <td>0.640000</td>\n",
       "      <td>0.720000</td>\n",
       "      <td>8.965041</td>\n",
       "    </tr>\n",
       "  </tbody>\n",
       "</table>\n",
       "</div>"
      ],
      "text/plain": [
       "       space_group   n_formula  n_primitive  sigmaA_300  sigmaA_500  \\\n",
       "count   118.000000  118.000000   115.000000   116.00000   99.000000   \n",
       "mean    192.610169    2.957627     4.521739     0.31096    0.402727   \n",
       "std      46.890313    1.081263     5.116790     0.08213    0.106059   \n",
       "min      56.000000    2.000000     2.000000     0.17000    0.220000   \n",
       "25%     166.000000    2.000000     2.000000     0.25000    0.320000   \n",
       "50%     218.500000    3.000000     3.000000     0.29000    0.370000   \n",
       "75%     225.000000    4.000000     4.000000     0.37250    0.500000   \n",
       "max     225.000000    5.000000    40.000000     0.55000    0.640000   \n",
       "\n",
       "       sigmaA_700     bandgap  \n",
       "count   99.000000  118.000000  \n",
       "mean     0.471313    2.576393  \n",
       "std      0.118921    2.019763  \n",
       "min      0.260000    0.116772  \n",
       "25%      0.380000    1.048993  \n",
       "50%      0.440000    1.867945  \n",
       "75%      0.590000    3.810048  \n",
       "max      0.720000    8.965041  "
      ]
     },
     "execution_count": 3,
     "metadata": {},
     "output_type": "execute_result"
    }
   ],
   "source": [
    "df.describe()"
   ]
  },
  {
   "cell_type": "code",
   "execution_count": 4,
   "metadata": {},
   "outputs": [],
   "source": [
    "def n_elements(name: str):\n",
    "    return len(Formula(name).count())"
   ]
  },
  {
   "cell_type": "code",
   "execution_count": 5,
   "metadata": {},
   "outputs": [],
   "source": [
    "df[\"n_elements\"] = df.material.apply(n_elements)"
   ]
  },
  {
   "cell_type": "code",
   "execution_count": 6,
   "metadata": {
    "scrolled": false
   },
   "outputs": [],
   "source": [
    "# qg.show_grid(df)"
   ]
  },
  {
   "cell_type": "code",
   "execution_count": 7,
   "metadata": {},
   "outputs": [],
   "source": [
    "classes = {\n",
    "    \"orthorombic\": (16, 74),\n",
    "    \"tetragonal\": (75, 142),\n",
    "    \"trigonal\": (143, 167),\n",
    "    \"hexagonal\": (168, 194),\n",
    "    \"cubic\": (195, 230),\n",
    "}\n",
    "classes = {\n",
    "    \"cubic\": (195, 230),\n",
    "    \"hexagonal\": (168, 194),\n",
    "    \"trigonal\": (143, 167),\n",
    "    \"tetragonal\": (75, 142),\n",
    "    \"orthorombic\": (16, 74),\n",
    "}"
   ]
  },
  {
   "cell_type": "code",
   "execution_count": 8,
   "metadata": {},
   "outputs": [],
   "source": [
    "def autopie(counts, labels=None, colors=None, ax=plt, autopct=True):\n",
    "    if autopct:\n",
    "        f = lambda c: int(np.round(c / 100.0 * sum(counts), 0))\n",
    "    else:\n",
    "        f = None\n",
    "    return ax.pie(\n",
    "        counts,\n",
    "        labels=labels,\n",
    "        colors=colors,\n",
    "        autopct=f,\n",
    "        pctdistance=0.75,\n",
    "        textprops={\"fontsize\": 18},\n",
    "        wedgeprops={\"width\": 0.9999},  # hotfix\n",
    "    )"
   ]
  },
  {
   "cell_type": "code",
   "execution_count": 9,
   "metadata": {},
   "outputs": [
    {
     "name": "stdout",
     "output_type": "stream",
     "text": [
      "          cubic materials: 75\n",
      "      hexagonal materials: 7\n",
      "       trigonal materials: 18\n",
      "     tetragonal materials: 11\n",
      "    orthorombic materials: 7\n"
     ]
    },
    {
     "data": {
      "image/png": "[encoded data removed]",
      "text/plain": [
       "<Figure size 432x288 with 1 Axes>"
      ]
     },
     "metadata": {},
     "output_type": "display_data"
    }
   ],
   "source": [
    "sns.set_palette(\"tab10\")\n",
    "\n",
    "counts = []\n",
    "labels = []\n",
    "\n",
    "for c in classes:\n",
    "    labels.append(c)\n",
    "    d = df[df.space_group.between(*classes[c])]\n",
    "    count = len(d)\n",
    "    counts.append(count)\n",
    "    print(f\"{c:>15} materials: {count}\")\n",
    "\n",
    "pie = autopie(counts, labels)\n",
    "\n",
    "plt.title(\"Lattice types:\", loc=\"left\")\n",
    "plt.savefig(\"pie.pdf\", bbox_inches=\"tight\")"
   ]
  },
  {
   "cell_type": "code",
   "execution_count": 10,
   "metadata": {},
   "outputs": [],
   "source": [
    "def get_class_index(sg):\n",
    "    \"\"\"return index of the class of spacegroup for color coding\"\"\"\n",
    "    for ii, c in enumerate(classes):\n",
    "        l, u = classes[c]\n",
    "        if sg >= l and sg <= u:\n",
    "            return ii"
   ]
  },
  {
   "cell_type": "code",
   "execution_count": 11,
   "metadata": {},
   "outputs": [
    {
     "name": "stdout",
     "output_type": "stream",
     "text": [
      "            225 materials: 48\n",
      "            221 materials: 11\n",
      "            216 materials: 15\n",
      "            206 materials: 1\n",
      "            186 materials: 7\n",
      "            166 materials: 16\n",
      "            164 materials: 1\n",
      "            160 materials: 1\n",
      "            122 materials: 11\n",
      "             62 materials: 5\n",
      "             61 materials: 1\n",
      "             56 materials: 1\n"
     ]
    },
    {
     "data": {
      "text/plain": [
       "12"
      ]
     },
     "execution_count": 11,
     "metadata": {},
     "output_type": "execute_result"
    },
    {
     "data": {
      "image/png": "[encoded data removed]",
      "text/plain": [
       "<Figure size 432x288 with 1 Axes>"
      ]
     },
     "metadata": {},
     "output_type": "display_data"
    }
   ],
   "source": [
    "counts_sg = []\n",
    "labels_sg = []\n",
    "colors_sg = []\n",
    "\n",
    "for c in df.space_group.unique()[::-1]:\n",
    "\n",
    "    d = df[df.space_group == c]\n",
    "    count = len(d)\n",
    "    print(f\"{c:>15} materials: {count}\")\n",
    "    if count == 1:\n",
    "        continue\n",
    "    counts_sg.append(count)\n",
    "    labels_sg.append(c)\n",
    "    class_index = get_class_index(c)\n",
    "    colors_sg.append(f\"C{class_index}\")\n",
    "\n",
    "fig, ax = plt.subplots()\n",
    "\n",
    "autopie(counts_sg, labels=labels_sg, colors=colors_sg, ax=ax)\n",
    "ax.set_title(\"Space groups:\", loc=\"left\")\n",
    "fig.savefig(\"pie2.pdf\", bbox_inches=\"tight\")\n",
    "\n",
    "len(df.space_group.unique())"
   ]
  },
  {
   "cell_type": "code",
   "execution_count": 12,
   "metadata": {},
   "outputs": [
    {
     "data": {
      "image/png": "[encoded data removed]",
      "text/plain": [
       "<Figure size 1008x504 with 2 Axes>"
      ]
     },
     "metadata": {},
     "output_type": "display_data"
    }
   ],
   "source": [
    "fig, (ax1, ax2) = plt.subplots(figsize=(14, 7), nrows=2, sharex=True)\n",
    "\n",
    "autopie(counts, labels, ax=ax1)\n",
    "autopie(counts_sg, labels=labels_sg, colors=colors_sg, ax=ax2, autopct=False)\n",
    "\n",
    "kw = {\"loc\": \"center\", \"fontsize\": 20}\n",
    "ax1.set_title(\"Lattice types\", **kw)\n",
    "ax2.set_title(\"Space groups\", **kw)\n",
    "\n",
    "fig.savefig(\"pies.pdf\", bbox_inches=\"tight\")"
   ]
  },
  {
   "cell_type": "code",
   "execution_count": 13,
   "metadata": {},
   "outputs": [
    {
     "data": {
      "image/png": "[encoded data removed]",
      "text/plain": [
       "<Figure size 720x1440 with 2 Axes>"
      ]
     },
     "metadata": {},
     "output_type": "display_data"
    }
   ],
   "source": [
    "fig, (ax1, ax2) = plt.subplots(figsize=(10, 20), ncols=2, sharey=True)\n",
    "fig.subplots_adjust(wspace=0.5)\n",
    "\n",
    "\n",
    "autopie(counts, labels, ax=ax1, autopct=False)\n",
    "autopie(counts_sg, labels=labels_sg, colors=colors_sg, ax=ax2, autopct=False)\n",
    "\n",
    "kw = {\"loc\": \"center\", \"fontsize\": 20}\n",
    "ax1.set_title(\"Lattice types\", **kw)\n",
    "ax2.set_title(\"Space groups\", **kw)\n",
    "\n",
    "fig.savefig(\"pies_horizontal.pdf\", bbox_inches=\"tight\")"
   ]
  },
  {
   "cell_type": "code",
   "execution_count": 14,
   "metadata": {},
   "outputs": [
    {
     "data": {
      "image/png": "[encoded data removed]",
      "text/plain": [
       "<Figure size 432x288 with 1 Axes>"
      ]
     },
     "metadata": {},
     "output_type": "display_data"
    }
   ],
   "source": [
    "fig, ax = plt.subplots()\n",
    "\n",
    "d2 = df[df.n_elements == 2]\n",
    "d3 = df[df.n_elements == 3]\n",
    "\n",
    "counts = [len(d2), len(d3)]\n",
    "labels = [\"binary\", \"ternary\"]\n",
    "\n",
    "autopie(counts, labels, ax=ax)\n",
    "\n",
    "fig.savefig(\"pie3.pdf\", bbox_inches=\"tight\")"
   ]
  },
  {
   "cell_type": "code",
   "execution_count": 15,
   "metadata": {},
   "outputs": [
    {
     "data": {
      "text/plain": [
       "(36, 15)"
      ]
     },
     "execution_count": 15,
     "metadata": {},
     "output_type": "execute_result"
    }
   ],
   "source": [
    "# count elements\n",
    "names = []\n",
    "count_O = 0\n",
    "for name in df.material:\n",
    "    formula = Formula(name)\n",
    "    names.extend(list(formula.count().keys()))\n",
    "    if \"O\" in formula:\n",
    "        count_O += 1\n",
    "\n",
    "len(np.unique(names)), count_O"
   ]
  },
  {
   "cell_type": "code",
   "execution_count": 16,
   "metadata": {},
   "outputs": [
    {
     "data": {
      "text/plain": [
       "45"
      ]
     },
     "execution_count": 16,
     "metadata": {},
     "output_type": "execute_result"
    }
   ],
   "source": [
    "# number experimental references\n",
    "len(df.ref_exp.dropna())"
   ]
  },
  {
   "cell_type": "code",
   "execution_count": 17,
   "metadata": {},
   "outputs": [
    {
     "data": {
      "text/plain": [
       "28"
      ]
     },
     "execution_count": 17,
     "metadata": {},
     "output_type": "execute_result"
    }
   ],
   "source": [
    "# number theoretical references\n",
    "len(df.ref_bte.dropna())"
   ]
  },
  {
   "cell_type": "code",
   "execution_count": 18,
   "metadata": {},
   "outputs": [
    {
     "data": {
      "text/plain": [
       "0      0.281398\n",
       "1      0.310000\n",
       "2      0.350000\n",
       "3      0.250000\n",
       "4           NaN\n",
       "         ...   \n",
       "113    0.330000\n",
       "114    0.310000\n",
       "115    0.400000\n",
       "116    0.380000\n",
       "117    0.300000\n",
       "Name: sigmaA_300, Length: 118, dtype: float64"
      ]
     },
     "execution_count": 18,
     "metadata": {},
     "output_type": "execute_result"
    }
   ],
   "source": [
    "df.sigmaA_300"
   ]
  },
  {
   "cell_type": "code",
   "execution_count": 19,
   "metadata": {},
   "outputs": [
    {
     "data": {
      "text/plain": [
       "count    116.00000\n",
       "mean       0.31096\n",
       "std        0.08213\n",
       "min        0.17000\n",
       "25%        0.25000\n",
       "50%        0.29000\n",
       "75%        0.37250\n",
       "max        0.55000\n",
       "Name: sigmaA_300, dtype: float64"
      ]
     },
     "execution_count": 19,
     "metadata": {},
     "output_type": "execute_result"
    },
    {
     "data": {
      "image/png": "[encoded data removed]",
      "text/plain": [
       "<Figure size 295.2x216 with 1 Axes>"
      ]
     },
     "metadata": {},
     "output_type": "display_data"
    }
   ],
   "source": [
    "fig, ax = plt.subplots(figsize=(4.1, 3))\n",
    "\n",
    "s = df.sigmaA_300\n",
    "# sns.distplot(df.sigmaA_300)\n",
    "s.hist(ax=ax, density=False, bins=np.arange(0.1, 0.6, 0.025))\n",
    "# s.plot.kde(ax=ax, label='_nolegend_')\n",
    "ax.axvline(s.mean(), c=\"k\", label=\"mean\")\n",
    "ax.axvline(s.median(), c=\"k\", ls=\"--\", label=\"median\")\n",
    "ax.legend(frameon=False)\n",
    "\n",
    "ax.set_xlabel(r\"$\\sigma^{\\rm A}_{\\rm OS}$\")\n",
    "ax.set_ylabel(\"count\")\n",
    "\n",
    "s.describe()"
   ]
  },
  {
   "cell_type": "code",
   "execution_count": 20,
   "metadata": {},
   "outputs": [
    {
     "name": "stdout",
     "output_type": "stream",
     "text": [
      "From Ramprasad: 41\n",
      "From Toberer: 3\n",
      "From Springer: 4\n",
      "From Roekeghem: 9\n",
      "From ICSD_exp: 55\n",
      "From Seko: 2\n",
      "From AAPL: 4\n"
     ]
    },
    {
     "data": {
      "image/png": "[encoded data removed]",
      "text/plain": [
       "<Figure size 432x288 with 1 Axes>"
      ]
     },
     "metadata": {},
     "output_type": "display_data"
    }
   ],
   "source": [
    "# sources\n",
    "\n",
    "counts = []\n",
    "labels = []\n",
    "\n",
    "for source in df.source.unique():\n",
    "    d = df[df.source == source]\n",
    "    print(f\"From {source}: {len(d)}\")\n",
    "    counts.append(len(d))\n",
    "    labels.append(source.replace(\"_\", \"-\"))\n",
    "\n",
    "pie = autopie(counts, labels, autopct=False)"
   ]
  },
  {
   "cell_type": "code",
   "execution_count": null,
   "metadata": {},
   "outputs": [],
   "source": []
  }
 ],
 "metadata": {
  "kernelspec": {
   "display_name": "Python 3 (ipykernel)",
   "language": "python",
   "name": "python3"
  },
  "language_info": {
   "codemirror_mode": {
    "name": "ipython",
    "version": 3
   },
   "file_extension": ".py",
   "mimetype": "text/x-python",
   "name": "python",
   "nbconvert_exporter": "python",
   "pygments_lexer": "ipython3",
   "version": "3.9.6"
  },
  "widgets": {
   "application/vnd.jupyter.widget-state+json": {
    "state": {
     "17e763eea2064f4691f4674c0e32f5fa": {
      "model_module": "qgrid",
      "model_module_version": "^1.1.3",
      "model_name": "QgridModel",
      "state": {
       "_columns": {
        "bandgap": {
         "cssClass": "number",
         "defaultSortAsc": true,
         "editable": true,
         "field": "bandgap",
         "id": "bandgap",
         "maxWidth": null,
         "minWidth": 30,
         "name": "bandgap",
         "position": 12,
         "resizable": true,
         "sortable": true,
         "toolTip": "",
         "type": "number",
         "width": null
        },
        "comment": {
         "cssClass": "string",
         "defaultSortAsc": true,
         "editable": true,
         "field": "comment",
         "id": "comment",
         "maxWidth": null,
         "minWidth": 30,
         "name": "comment",
         "position": 17,
         "resizable": true,
         "sortable": true,
         "toolTip": "",
         "type": "string",
         "width": null
        },
        "index": {
         "cssClass": "integer",
         "defaultSortAsc": true,
         "editable": true,
         "field": "index",
         "first_index": true,
         "id": "index",
         "index_display_text": "",
         "is_index": true,
         "level": 0,
         "maxWidth": null,
         "minWidth": 30,
         "name": "index",
         "position": 0,
         "resizable": true,
         "sortable": true,
         "toolTip": "",
         "type": "integer",
         "width": null
        },
        "kappa_aiGK": {
         "cssClass": "string",
         "defaultSortAsc": true,
         "editable": true,
         "field": "kappa_aiGK",
         "id": "kappa_aiGK",
         "maxWidth": null,
         "minWidth": 30,
         "name": "kappa_aiGK",
         "position": 16,
         "resizable": true,
         "sortable": true,
         "toolTip": "",
         "type": "string",
         "width": null
        },
        "kappa_bte": {
         "cssClass": "string",
         "defaultSortAsc": true,
         "editable": true,
         "field": "kappa_bte",
         "id": "kappa_bte",
         "maxWidth": null,
         "minWidth": 30,
         "name": "kappa_bte",
         "position": 13,
         "resizable": true,
         "sortable": true,
         "toolTip": "",
         "type": "string",
         "width": null
        },
        "kappa_exp": {
         "cssClass": "string",
         "defaultSortAsc": true,
         "editable": true,
         "field": "kappa_exp",
         "id": "kappa_exp",
         "maxWidth": null,
         "minWidth": 30,
         "name": "kappa_exp",
         "position": 11,
         "resizable": true,
         "sortable": true,
         "toolTip": "",
         "type": "string",
         "width": null
        },
        "material": {
         "cssClass": "string",
         "defaultSortAsc": true,
         "editable": true,
         "field": "material",
         "id": "material",
         "maxWidth": null,
         "minWidth": 30,
         "name": "material",
         "position": 4,
         "resizable": true,
         "sortable": true,
         "toolTip": "",
         "type": "string",
         "width": null
        },
        "mp_id": {
         "cssClass": "string",
         "defaultSortAsc": true,
         "editable": true,
         "field": "mp_id",
         "id": "mp_id",
         "maxWidth": null,
         "minWidth": 30,
         "name": "mp_id",
         "position": 6,
         "resizable": true,
         "sortable": true,
         "toolTip": "",
         "type": "string",
         "width": null
        },
        "n_elements": {
         "cssClass": "integer",
         "defaultSortAsc": true,
         "editable": true,
         "field": "n_elements",
         "id": "n_elements",
         "maxWidth": null,
         "minWidth": 30,
         "name": "n_elements",
         "position": 19,
         "resizable": true,
         "sortable": true,
         "toolTip": "",
         "type": "integer",
         "width": null
        },
        "n_formula": {
         "cssClass": "integer",
         "defaultSortAsc": true,
         "editable": true,
         "field": "n_formula",
         "id": "n_formula",
         "maxWidth": null,
         "minWidth": 30,
         "name": "n_formula",
         "position": 3,
         "resizable": true,
         "sortable": true,
         "toolTip": "",
         "type": "integer",
         "width": null
        },
        "n_primitive": {
         "cssClass": "number",
         "defaultSortAsc": true,
         "editable": true,
         "field": "n_primitive",
         "id": "n_primitive",
         "maxWidth": null,
         "minWidth": 30,
         "name": "n_primitive",
         "position": 5,
         "resizable": true,
         "sortable": true,
         "toolTip": "",
         "type": "number",
         "width": null
        },
        "qgrid_unfiltered_index": {
         "cssClass": "integer",
         "defaultSortAsc": true,
         "editable": true,
         "field": "qgrid_unfiltered_index",
         "id": "qgrid_unfiltered_index",
         "maxWidth": null,
         "minWidth": 30,
         "name": "qgrid_unfiltered_index",
         "position": 1,
         "resizable": true,
         "sortable": true,
         "toolTip": "",
         "type": "integer",
         "width": null
        },
        "ref_bte": {
         "cssClass": "string",
         "defaultSortAsc": true,
         "editable": true,
         "field": "ref_bte",
         "id": "ref_bte",
         "maxWidth": null,
         "minWidth": 30,
         "name": "ref_bte",
         "position": 15,
         "resizable": true,
         "sortable": true,
         "toolTip": "",
         "type": "string",
         "width": null
        },
        "ref_exp": {
         "cssClass": "string",
         "defaultSortAsc": true,
         "editable": true,
         "field": "ref_exp",
         "id": "ref_exp",
         "maxWidth": null,
         "minWidth": 30,
         "name": "ref_exp",
         "position": 14,
         "resizable": true,
         "sortable": true,
         "toolTip": "",
         "type": "string",
         "width": null
        },
        "sigmaA_300": {
         "cssClass": "number",
         "defaultSortAsc": true,
         "editable": true,
         "field": "sigmaA_300",
         "id": "sigmaA_300",
         "maxWidth": null,
         "minWidth": 30,
         "name": "sigmaA_300",
         "position": 7,
         "resizable": true,
         "sortable": true,
         "toolTip": "",
         "type": "number",
         "width": null
        },
        "sigmaA_500": {
         "cssClass": "number",
         "defaultSortAsc": true,
         "editable": true,
         "field": "sigmaA_500",
         "id": "sigmaA_500",
         "maxWidth": null,
         "minWidth": 30,
         "name": "sigmaA_500",
         "position": 8,
         "resizable": true,
         "sortable": true,
         "toolTip": "",
         "type": "number",
         "width": null
        },
        "sigmaA_700": {
         "cssClass": "number",
         "defaultSortAsc": true,
         "editable": true,
         "field": "sigmaA_700",
         "id": "sigmaA_700",
         "maxWidth": null,
         "minWidth": 30,
         "name": "sigmaA_700",
         "position": 9,
         "resizable": true,
         "sortable": true,
         "toolTip": "",
         "type": "number",
         "width": null
        },
        "source": {
         "cssClass": "string",
         "defaultSortAsc": true,
         "editable": true,
         "field": "source",
         "id": "source",
         "maxWidth": null,
         "minWidth": 30,
         "name": "source",
         "position": 10,
         "resizable": true,
         "sortable": true,
         "toolTip": "",
         "type": "string",
         "width": null
        },
        "space_group": {
         "cssClass": "integer",
         "defaultSortAsc": true,
         "editable": true,
         "field": "space_group",
         "id": "space_group",
         "maxWidth": null,
         "minWidth": 30,
         "name": "space_group",
         "position": 2,
         "resizable": true,
         "sortable": true,
         "toolTip": "",
         "type": "integer",
         "width": null
        },
        "use": {
         "cssClass": "string",
         "defaultSortAsc": true,
         "editable": true,
         "field": "use",
         "id": "use",
         "maxWidth": null,
         "minWidth": 30,
         "name": "use",
         "position": 18,
         "resizable": true,
         "sortable": true,
         "toolTip": "",
         "type": "string",
         "width": null
        }
       },
       "_df_json": "{\"schema\":{\"fields\":[{\"name\":\"index\",\"type\":\"integer\"},{\"name\":\"qgrid_unfiltered_index\",\"type\":\"integer\"},{\"name\":\"space_group\",\"type\":\"integer\"},{\"name\":\"n_formula\",\"type\":\"integer\"},{\"name\":\"material\",\"type\":\"string\"},{\"name\":\"n_primitive\",\"type\":\"number\"},{\"name\":\"mp_id\",\"type\":\"string\"},{\"name\":\"sigmaA_300\",\"type\":\"number\"},{\"name\":\"sigmaA_500\",\"type\":\"number\"},{\"name\":\"sigmaA_700\",\"type\":\"number\"},{\"name\":\"source\",\"type\":\"string\"},{\"name\":\"kappa_exp\",\"type\":\"string\"},{\"name\":\"bandgap\",\"type\":\"number\"},{\"name\":\"kappa_bte\",\"type\":\"string\"},{\"name\":\"ref_exp\",\"type\":\"string\"},{\"name\":\"ref_bte\",\"type\":\"string\"},{\"name\":\"kappa_aiGK\",\"type\":\"string\"},{\"name\":\"comment\",\"type\":\"string\"},{\"name\":\"use\",\"type\":\"string\"},{\"name\":\"n_elements\",\"type\":\"integer\"}],\"primaryKey\":[\"index\"],\"pandas_version\":\"0.20.0\"},\"data\":[{\"index\":0,\"qgrid_unfiltered_index\":0,\"space_group\":56,\"n_formula\":5,\"material\":\"Sb2O3\",\"n_primitive\":20.0,\"mp_id\":\"mp-2136\",\"sigmaA_300\":0.2814,\"sigmaA_500\":null,\"sigmaA_700\":null,\"source\":\"Ramprasad\",\"kappa_exp\":\"nan\",\"bandgap\":1.8,\"kappa_bte\":\"nan\",\"ref_exp\":\"nan\",\"ref_bte\":\"nan\",\"kappa_aiGK\":\"r\",\"comment\":\"nan\",\"use\":\"y\",\"n_elements\":2},{\"index\":1,\"qgrid_unfiltered_index\":1,\"space_group\":61,\"n_formula\":2,\"material\":\"ZnSb\",\"n_primitive\":16.0,\"mp_id\":\"mp-753\",\"sigmaA_300\":0.31,\"sigmaA_500\":null,\"sigmaA_700\":null,\"source\":\"Ramprasad\",\"kappa_exp\":\"3.5\",\"bandgap\":0.38563,\"kappa_bte\":\"nan\",\"ref_exp\":\"Bjerg: https:\\/\\/journals.aps.org\\/prb\\/pdf\\/10.1103\\/PhysRevB.89.024304\",\"ref_bte\":\"nan\",\"kappa_aiGK\":\"nan\",\"comment\":\"nan\",\"use\":\"y\",\"n_elements\":2},{\"index\":2,\"qgrid_unfiltered_index\":2,\"space_group\":62,\"n_formula\":2,\"material\":\"SnSe\",\"n_primitive\":8.0,\"mp_id\":\"mp-691\",\"sigmaA_300\":0.35,\"sigmaA_500\":null,\"sigmaA_700\":null,\"source\":\"Toberer\",\"kappa_exp\":\"0.6\",\"bandgap\":0.28066,\"kappa_bte\":\"1.0-1.5\",\"ref_exp\":\"Zhao\",\"ref_bte\":\"Carrete(LDA), Skelton(PBEsol), Guo(LDA)\",\"kappa_aiGK\":\"r\",\"comment\":\"nan\",\"use\":\"y\",\"n_elements\":2},{\"index\":3,\"qgrid_unfiltered_index\":3,\"space_group\":62,\"n_formula\":3,\"material\":\"BaSi2\",\"n_primitive\":24.0,\"mp_id\":\"mp-1477\",\"sigmaA_300\":0.25,\"sigmaA_500\":null,\"sigmaA_700\":null,\"source\":\"Springer\",\"kappa_exp\":\"1.4-1.6\",\"bandgap\":1.82332,\"kappa_bte\":\"nan\",\"ref_exp\":\"Hashimoto, Spitzer\",\"ref_bte\":\"nan\",\"kappa_aiGK\":\"r\",\"comment\":\"nan\",\"use\":\"y\",\"n_elements\":2},{\"index\":4,\"qgrid_unfiltered_index\":4,\"space_group\":62,\"n_formula\":4,\"material\":\"CuSbSe2\",\"n_primitive\":null,\"mp_id\":\"mp-20331\",\"sigmaA_300\":null,\"sigmaA_500\":null,\"sigmaA_700\":null,\"source\":\"Springer\",\"kappa_exp\":\"2\",\"bandgap\":0.37515,\"kappa_bte\":\"nan\",\"ref_exp\":\"Li\",\"ref_bte\":\"nan\",\"kappa_aiGK\":\"nan\",\"comment\":\"nan\",\"use\":\"y\",\"n_elements\":3},{\"index\":5,\"qgrid_unfiltered_index\":5,\"space_group\":62,\"n_formula\":5,\"material\":\"KCaF3\",\"n_primitive\":20.0,\"mp_id\":\"mp-5926\",\"sigmaA_300\":0.37,\"sigmaA_500\":null,\"sigmaA_700\":null,\"source\":\"Roekeghem\",\"kappa_exp\":\"nan\",\"bandgap\":6.19048,\"kappa_bte\":\"nan\",\"ref_exp\":\"nan\",\"ref_bte\":\"nan\",\"kappa_aiGK\":\"y\",\"comment\":\"nan\",\"use\":\"y\",\"n_elements\":3},{\"index\":6,\"qgrid_unfiltered_index\":6,\"space_group\":62,\"n_formula\":5,\"material\":\"KCdF3\",\"n_primitive\":20.0,\"mp_id\":\"mp-9628\",\"sigmaA_300\":0.4,\"sigmaA_500\":null,\"sigmaA_700\":null,\"source\":\"Roekeghem\",\"kappa_exp\":\"nan\",\"bandgap\":2.96426,\"kappa_bte\":\"nan\",\"ref_exp\":\"nan\",\"ref_bte\":\"nan\",\"kappa_aiGK\":\"nan\",\"comment\":\"nan\",\"use\":\"y\",\"n_elements\":3},{\"index\":7,\"qgrid_unfiltered_index\":7,\"space_group\":122,\"n_formula\":4,\"material\":\"AgAlS2\",\"n_primitive\":8.0,\"mp_id\":\"mp-5782\",\"sigmaA_300\":0.28,\"sigmaA_500\":0.36,\"sigmaA_700\":0.42,\"source\":\"ICSD_exp\",\"kappa_exp\":\"nan\",\"bandgap\":1.80106,\"kappa_bte\":\"nan\",\"ref_exp\":\"nan\",\"ref_bte\":\"nan\",\"kappa_aiGK\":\"nan\",\"comment\":\"nan\",\"use\":\"y\",\"n_elements\":3},{\"index\":8,\"qgrid_unfiltered_index\":8,\"space_group\":122,\"n_formula\":4,\"material\":\"AgAlSe2\",\"n_primitive\":8.0,\"mp_id\":\"mp-14091\",\"sigmaA_300\":0.27,\"sigmaA_500\":0.35,\"sigmaA_700\":0.41,\"source\":\"ICSD_exp\",\"kappa_exp\":\"nan\",\"bandgap\":1.03743,\"kappa_bte\":\"nan\",\"ref_exp\":\"nan\",\"ref_bte\":\"nan\",\"kappa_aiGK\":\"nan\",\"comment\":\"nan\",\"use\":\"y\",\"n_elements\":3},{\"index\":9,\"qgrid_unfiltered_index\":9,\"space_group\":122,\"n_formula\":4,\"material\":\"AgAlTe2\",\"n_primitive\":8.0,\"mp_id\":\"mp-14092\",\"sigmaA_300\":0.29,\"sigmaA_500\":0.36,\"sigmaA_700\":0.43,\"source\":\"ICSD_exp\",\"kappa_exp\":\"nan\",\"bandgap\":1.04483,\"kappa_bte\":\"nan\",\"ref_exp\":\"nan\",\"ref_bte\":\"nan\",\"kappa_aiGK\":\"nan\",\"comment\":\"nan\",\"use\":\"y\",\"n_elements\":3},{\"index\":10,\"qgrid_unfiltered_index\":10,\"space_group\":122,\"n_formula\":4,\"material\":\"AgGaS2\",\"n_primitive\":8.0,\"mp_id\":\"mp-5342\",\"sigmaA_300\":0.3,\"sigmaA_500\":0.37,\"sigmaA_700\":0.43,\"source\":\"Ramprasad\",\"kappa_exp\":\"1.4-2.6\",\"bandgap\":0.89869,\"kappa_bte\":\"nan\",\"ref_exp\":\"Beasley, Rincon\",\"ref_bte\":\"nan\",\"kappa_aiGK\":\"r\",\"comment\":\"nan\",\"use\":\"y\",\"n_elements\":3},{\"index\":11,\"qgrid_unfiltered_index\":11,\"space_group\":122,\"n_formula\":4,\"material\":\"AgGaSe2\",\"n_primitive\":8.0,\"mp_id\":\"mp-5518\",\"sigmaA_300\":0.3,\"sigmaA_500\":0.39,\"sigmaA_700\":0.45,\"source\":\"Springer\",\"kappa_exp\":\"4.8\",\"bandgap\":0.18976,\"kappa_bte\":\"nan\",\"ref_exp\":\"Beasley, Garbato\",\"ref_bte\":\"nan\",\"kappa_aiGK\":\"nan\",\"comment\":\"bandluecke\",\"use\":\"nan\",\"n_elements\":3},{\"index\":12,\"qgrid_unfiltered_index\":12,\"space_group\":122,\"n_formula\":4,\"material\":\"AlCuS2\",\"n_primitive\":8.0,\"mp_id\":\"mp-4979\",\"sigmaA_300\":0.24,\"sigmaA_500\":0.31,\"sigmaA_700\":0.37,\"source\":\"ICSD_exp\",\"kappa_exp\":\"nan\",\"bandgap\":1.69179,\"kappa_bte\":\"nan\",\"ref_exp\":\"nan\",\"ref_bte\":\"nan\",\"kappa_aiGK\":\"nan\",\"comment\":\"nan\",\"use\":\"y\",\"n_elements\":3},{\"index\":13,\"qgrid_unfiltered_index\":13,\"space_group\":122,\"n_formula\":4,\"material\":\"AlCuSe2\",\"n_primitive\":8.0,\"mp_id\":\"mp-8016\",\"sigmaA_300\":0.28,\"sigmaA_500\":0.36,\"sigmaA_700\":0.43,\"source\":\"ICSD_exp\",\"kappa_exp\":\"nan\",\"bandgap\":0.86665,\"kappa_bte\":\"nan\",\"ref_exp\":\"nan\",\"ref_bte\":\"nan\",\"kappa_aiGK\":\"nan\",\"comment\":\"nan\",\"use\":\"y\",\"n_elements\":3},{\"index\":14,\"qgrid_unfiltered_index\":14,\"space_group\":122,\"n_formula\":4,\"material\":\"AlLiTe2\",\"n_primitive\":8.0,\"mp_id\":\"mp-4586\",\"sigmaA_300\":0.26,\"sigmaA_500\":0.32,\"sigmaA_700\":0.37,\"source\":\"ICSD_exp\",\"kappa_exp\":\"nan\",\"bandgap\":2.2324,\"kappa_bte\":\"nan\",\"ref_exp\":\"nan\",\"ref_bte\":\"nan\",\"kappa_aiGK\":\"nan\",\"comment\":\"nan\",\"use\":\"y\",\"n_elements\":3},{\"index\":15,\"qgrid_unfiltered_index\":15,\"space_group\":122,\"n_formula\":4,\"material\":\"CuInS2\",\"n_primitive\":8.0,\"mp_id\":\"mp-22736\",\"sigmaA_300\":0.29,\"sigmaA_500\":0.38,\"sigmaA_700\":0.44,\"source\":\"ICSD_exp\",\"kappa_exp\":\"nan\",\"bandgap\":0.56984,\"kappa_bte\":\"nan\",\"ref_exp\":\"nan\",\"ref_bte\":\"nan\",\"kappa_aiGK\":\"nan\",\"comment\":\"nan\",\"use\":\"y\",\"n_elements\":3},{\"index\":16,\"qgrid_unfiltered_index\":16,\"space_group\":122,\"n_formula\":4,\"material\":\"GaLiTe2\",\"n_primitive\":8.0,\"mp_id\":\"mp-5048\",\"sigmaA_300\":0.27,\"sigmaA_500\":0.33,\"sigmaA_700\":0.38,\"source\":\"ICSD_exp\",\"kappa_exp\":\"nan\",\"bandgap\":1.65914,\"kappa_bte\":\"nan\",\"ref_exp\":\"nan\",\"ref_bte\":\"nan\",\"kappa_aiGK\":\"nan\",\"comment\":\"nan\",\"use\":\"y\",\"n_elements\":3},{\"index\":17,\"qgrid_unfiltered_index\":17,\"space_group\":122,\"n_formula\":4,\"material\":\"InLiTe2\",\"n_primitive\":8.0,\"mp_id\":\"mp-20782\",\"sigmaA_300\":0.26,\"sigmaA_500\":0.32,\"sigmaA_700\":0.37,\"source\":\"ICSD_exp\",\"kappa_exp\":\"nan\",\"bandgap\":1.41809,\"kappa_bte\":\"nan\",\"ref_exp\":\"nan\",\"ref_bte\":\"nan\",\"kappa_aiGK\":\"nan\",\"comment\":\"nan\",\"use\":\"y\",\"n_elements\":3},{\"index\":18,\"qgrid_unfiltered_index\":18,\"space_group\":160,\"n_formula\":2,\"material\":\"InSe\",\"n_primitive\":null,\"mp_id\":\"mp-22691\",\"sigmaA_300\":null,\"sigmaA_500\":null,\"sigmaA_700\":null,\"source\":\"Toberer\",\"kappa_exp\":\"1.8\",\"bandgap\":0.37961,\"kappa_bte\":\"nan\",\"ref_exp\":\"nan\",\"ref_bte\":\"nan\",\"kappa_aiGK\":\"nan\",\"comment\":\"nan\",\"use\":\"y\",\"n_elements\":2},{\"index\":19,\"qgrid_unfiltered_index\":19,\"space_group\":164,\"n_formula\":2,\"material\":\"MgSb\",\"n_primitive\":5.0,\"mp_id\":\"mp-2646\",\"sigmaA_300\":0.31,\"sigmaA_500\":null,\"sigmaA_700\":null,\"source\":\"Springer\",\"kappa_exp\":\"4.2\",\"bandgap\":0.21913,\"kappa_bte\":\"nan\",\"ref_exp\":\"Condron, Zhang\",\"ref_bte\":\"nan\",\"kappa_aiGK\":\"r\",\"comment\":\"bandluecke\",\"use\":\"nan\",\"n_elements\":2},{\"index\":20,\"qgrid_unfiltered_index\":20,\"space_group\":166,\"n_formula\":4,\"material\":\"Ba2BrN\",\"n_primitive\":4.0,\"mp_id\":\"mp-1018098\",\"sigmaA_300\":0.41,\"sigmaA_500\":0.53,\"sigmaA_700\":0.61,\"source\":\"ICSD_exp\",\"kappa_exp\":\"nan\",\"bandgap\":0.99815,\"kappa_bte\":\"nan\",\"ref_exp\":\"nan\",\"ref_bte\":\"nan\",\"kappa_aiGK\":\"nan\",\"comment\":\"nan\",\"use\":\"y\",\"n_elements\":3},{\"index\":21,\"qgrid_unfiltered_index\":21,\"space_group\":166,\"n_formula\":4,\"material\":\"Ba2ClP\",\"n_primitive\":4.0,\"mp_id\":\"mp-27869\",\"sigmaA_300\":0.29,\"sigmaA_500\":0.38,\"sigmaA_700\":0.45,\"source\":\"ICSD_exp\",\"kappa_exp\":\"nan\",\"bandgap\":1.11881,\"kappa_bte\":\"nan\",\"ref_exp\":\"nan\",\"ref_bte\":\"nan\",\"kappa_aiGK\":\"nan\",\"comment\":\"nan\",\"use\":\"y\",\"n_elements\":3},{\"index\":22,\"qgrid_unfiltered_index\":22,\"space_group\":166,\"n_formula\":4,\"material\":\"CuGaO2\",\"n_primitive\":4.0,\"mp_id\":\"mp-4280\",\"sigmaA_300\":0.21,\"sigmaA_500\":0.27,\"sigmaA_700\":0.32,\"source\":\"ICSD_exp\",\"kappa_exp\":\"nan\",\"bandgap\":0.83216,\"kappa_bte\":\"nan\",\"ref_exp\":\"nan\",\"ref_bte\":\"nan\",\"kappa_aiGK\":\"nan\",\"comment\":\"nan\",\"use\":\"y\",\"n_elements\":3},{\"index\":23,\"qgrid_unfiltered_index\":23,\"space_group\":166,\"n_formula\":4,\"material\":\"CuScO2\",\"n_primitive\":4.0,\"mp_id\":\"mp-4636\",\"sigmaA_300\":0.27,\"sigmaA_500\":0.35,\"sigmaA_700\":0.42,\"source\":\"ICSD_exp\",\"kappa_exp\":\"nan\",\"bandgap\":2.19543,\"kappa_bte\":\"nan\",\"ref_exp\":\"nan\",\"ref_bte\":\"nan\",\"kappa_aiGK\":\"nan\",\"comment\":\"nan\",\"use\":\"y\",\"n_elements\":3},{\"index\":24,\"qgrid_unfiltered_index\":24,\"space_group\":166,\"n_formula\":4,\"material\":\"InLiSe2\",\"n_primitive\":4.0,\"mp_id\":\"mp-10618\",\"sigmaA_300\":0.35,\"sigmaA_500\":0.44,\"sigmaA_700\":0.52,\"source\":\"ICSD_exp\",\"kappa_exp\":\"nan\",\"bandgap\":0.76448,\"kappa_bte\":\"nan\",\"ref_exp\":\"nan\",\"ref_bte\":\"nan\",\"kappa_aiGK\":\"nan\",\"comment\":\"nan\",\"use\":\"y\",\"n_elements\":3},{\"index\":25,\"qgrid_unfiltered_index\":25,\"space_group\":166,\"n_formula\":4,\"material\":\"InNaO2\",\"n_primitive\":4.0,\"mp_id\":\"mp-5175\",\"sigmaA_300\":0.21,\"sigmaA_500\":0.27,\"sigmaA_700\":0.33,\"source\":\"ICSD_exp\",\"kappa_exp\":\"nan\",\"bandgap\":1.91582,\"kappa_bte\":\"nan\",\"ref_exp\":\"nan\",\"ref_bte\":\"nan\",\"kappa_aiGK\":\"nan\",\"comment\":\"nan\",\"use\":\"y\",\"n_elements\":3},{\"index\":26,\"qgrid_unfiltered_index\":26,\"space_group\":166,\"n_formula\":4,\"material\":\"InNaS2\",\"n_primitive\":4.0,\"mp_id\":\"mp-20289\",\"sigmaA_300\":0.26,\"sigmaA_500\":0.34,\"sigmaA_700\":0.4,\"source\":\"ICSD_exp\",\"kappa_exp\":\"nan\",\"bandgap\":1.74738,\"kappa_bte\":\"nan\",\"ref_exp\":\"nan\",\"ref_bte\":\"nan\",\"kappa_aiGK\":\"nan\",\"comment\":\"nan\",\"use\":\"y\",\"n_elements\":3},{\"index\":27,\"qgrid_unfiltered_index\":27,\"space_group\":166,\"n_formula\":4,\"material\":\"InNaSe2\",\"n_primitive\":4.0,\"mp_id\":\"mp-22473\",\"sigmaA_300\":0.32,\"sigmaA_500\":0.41,\"sigmaA_700\":0.48,\"source\":\"ICSD_exp\",\"kappa_exp\":\"nan\",\"bandgap\":0.99074,\"kappa_bte\":\"nan\",\"ref_exp\":\"nan\",\"ref_bte\":\"nan\",\"kappa_aiGK\":\"nan\",\"comment\":\"nan\",\"use\":\"y\",\"n_elements\":3},{\"index\":28,\"qgrid_unfiltered_index\":28,\"space_group\":166,\"n_formula\":4,\"material\":\"LiF2H\",\"n_primitive\":4.0,\"mp_id\":\"mp-24199\",\"sigmaA_300\":0.45,\"sigmaA_500\":0.55,\"sigmaA_700\":0.64,\"source\":\"ICSD_exp\",\"kappa_exp\":\"nan\",\"bandgap\":8.10827,\"kappa_bte\":\"nan\",\"ref_exp\":\"nan\",\"ref_bte\":\"nan\",\"kappa_aiGK\":\"nan\",\"comment\":\"nan\",\"use\":\"y\",\"n_elements\":3},{\"index\":29,\"qgrid_unfiltered_index\":29,\"space_group\":166,\"n_formula\":4,\"material\":\"LiRhO2\",\"n_primitive\":4.0,\"mp_id\":\"mp-14115\",\"sigmaA_300\":0.22,\"sigmaA_500\":0.33,\"sigmaA_700\":0.42,\"source\":\"ICSD_exp\",\"kappa_exp\":\"nan\",\"bandgap\":1.40005,\"kappa_bte\":\"nan\",\"ref_exp\":\"nan\",\"ref_bte\":\"nan\",\"kappa_aiGK\":\"nan\",\"comment\":\"nan\",\"use\":\"y\",\"n_elements\":3},{\"index\":30,\"qgrid_unfiltered_index\":30,\"space_group\":166,\"n_formula\":4,\"material\":\"LiScS2\",\"n_primitive\":4.0,\"mp_id\":\"mp-1001786\",\"sigmaA_300\":0.28,\"sigmaA_500\":0.38,\"sigmaA_700\":0.47,\"source\":\"ICSD_exp\",\"kappa_exp\":\"nan\",\"bandgap\":1.32575,\"kappa_bte\":\"nan\",\"ref_exp\":\"nan\",\"ref_bte\":\"nan\",\"kappa_aiGK\":\"nan\",\"comment\":\"nan\",\"use\":\"y\",\"n_elements\":3},{\"index\":31,\"qgrid_unfiltered_index\":31,\"space_group\":166,\"n_formula\":4,\"material\":\"NaF2H\",\"n_primitive\":4.0,\"mp_id\":\"mp-27837\",\"sigmaA_300\":0.41,\"sigmaA_500\":0.51,\"sigmaA_700\":0.57,\"source\":\"ICSD_exp\",\"kappa_exp\":\"nan\",\"bandgap\":6.84834,\"kappa_bte\":\"nan\",\"ref_exp\":\"nan\",\"ref_bte\":\"nan\",\"kappa_aiGK\":\"nan\",\"comment\":\"nan\",\"use\":\"y\",\"n_elements\":3},{\"index\":32,\"qgrid_unfiltered_index\":32,\"space_group\":166,\"n_formula\":4,\"material\":\"Sr2ClN\",\"n_primitive\":4.0,\"mp_id\":\"mp-23033\",\"sigmaA_300\":0.28,\"sigmaA_500\":0.36,\"sigmaA_700\":0.43,\"source\":\"ICSD_exp\",\"kappa_exp\":\"nan\",\"bandgap\":1.78484,\"kappa_bte\":\"nan\",\"ref_exp\":\"nan\",\"ref_bte\":\"nan\",\"kappa_aiGK\":\"nan\",\"comment\":\"nan\",\"use\":\"y\",\"n_elements\":3},{\"index\":33,\"qgrid_unfiltered_index\":33,\"space_group\":166,\"n_formula\":4,\"material\":\"Sr2HN\",\"n_primitive\":4.0,\"mp_id\":\"mp-690794\",\"sigmaA_300\":0.3,\"sigmaA_500\":0.39,\"sigmaA_700\":0.46,\"source\":\"ICSD_exp\",\"kappa_exp\":\"nan\",\"bandgap\":1.7284,\"kappa_bte\":\"nan\",\"ref_exp\":\"nan\",\"ref_bte\":\"nan\",\"kappa_aiGK\":\"nan\",\"comment\":\"nan\",\"use\":\"y\",\"n_elements\":3},{\"index\":34,\"qgrid_unfiltered_index\":34,\"space_group\":166,\"n_formula\":4,\"material\":\"Sr2IN\",\"n_primitive\":4.0,\"mp_id\":\"mp-569677\",\"sigmaA_300\":0.28,\"sigmaA_500\":0.37,\"sigmaA_700\":0.44,\"source\":\"ICSD_exp\",\"kappa_exp\":\"nan\",\"bandgap\":1.90598,\"kappa_bte\":\"nan\",\"ref_exp\":\"nan\",\"ref_bte\":\"nan\",\"kappa_aiGK\":\"nan\",\"comment\":\"nan\",\"use\":\"y\",\"n_elements\":3},{\"index\":35,\"qgrid_unfiltered_index\":35,\"space_group\":166,\"n_formula\":5,\"material\":\"Bi2Te3\",\"n_primitive\":5.0,\"mp_id\":\"mp-34202\",\"sigmaA_300\":0.24,\"sigmaA_500\":null,\"sigmaA_700\":null,\"source\":\"Ramprasad\",\"kappa_exp\":\"1.6\",\"bandgap\":0.14219,\"kappa_bte\":\"1.3\",\"ref_exp\":\"Goldsmit\",\"ref_bte\":\"Hellmann, Broido\",\"kappa_aiGK\":\"nan\",\"comment\":\"Z=81, bandluecke\",\"use\":\"nan\",\"n_elements\":2},{\"index\":36,\"qgrid_unfiltered_index\":36,\"space_group\":186,\"n_formula\":2,\"material\":\"AgI\",\"n_primitive\":4.0,\"mp_id\":\"mp-22894\",\"sigmaA_300\":0.42,\"sigmaA_500\":0.52,\"sigmaA_700\":0.59,\"source\":\"Seko\",\"kappa_exp\":\"1.03\",\"bandgap\":1.25013,\"kappa_bte\":\"1.543333333\",\"ref_exp\":\"[42] M. C. Goetz and J. A. Cowen, Solid State Commun. 41, 293 (1982).\",\"ref_bte\":\"phono3py\",\"kappa_aiGK\":\"nan\",\"comment\":\"nan\",\"use\":\"y\",\"n_elements\":2},{\"index\":37,\"qgrid_unfiltered_index\":37,\"space_group\":186,\"n_formula\":2,\"material\":\"CdS\",\"n_primitive\":4.0,\"mp_id\":\"mp-672\",\"sigmaA_300\":0.27,\"sigmaA_500\":0.34,\"sigmaA_700\":0.4,\"source\":\"Ramprasad\",\"kappa_exp\":\"16\",\"bandgap\":1.09517,\"kappa_bte\":\"nan\",\"ref_exp\":\"MorelliSlack\",\"ref_bte\":\"nan\",\"kappa_aiGK\":\"nan\",\"comment\":\"nan\",\"use\":\"y\",\"n_elements\":2},{\"index\":38,\"qgrid_unfiltered_index\":38,\"space_group\":186,\"n_formula\":2,\"material\":\"CdSe\",\"n_primitive\":4.0,\"mp_id\":\"mp-1070\",\"sigmaA_300\":0.26,\"sigmaA_500\":0.33,\"sigmaA_700\":0.38,\"source\":\"ICSD_exp\",\"kappa_exp\":\"nan\",\"bandgap\":0.53284,\"kappa_bte\":\"nan\",\"ref_exp\":\"nan\",\"ref_bte\":\"nan\",\"kappa_aiGK\":\"nan\",\"comment\":\"nan\",\"use\":\"y\",\"n_elements\":2},{\"index\":39,\"qgrid_unfiltered_index\":39,\"space_group\":186,\"n_formula\":2,\"material\":\"MgTe\",\"n_primitive\":4.0,\"mp_id\":\"mp-1039\",\"sigmaA_300\":0.26,\"sigmaA_500\":0.34,\"sigmaA_700\":0.39,\"source\":\"ICSD_exp\",\"kappa_exp\":\"nan\",\"bandgap\":2.32986,\"kappa_bte\":\"nan\",\"ref_exp\":\"nan\",\"ref_bte\":\"nan\",\"kappa_aiGK\":\"nan\",\"comment\":\"nan\",\"use\":\"y\",\"n_elements\":2},{\"index\":40,\"qgrid_unfiltered_index\":40,\"space_group\":186,\"n_formula\":2,\"material\":\"ZnO\",\"n_primitive\":4.0,\"mp_id\":\"mp-2133\",\"sigmaA_300\":0.22,\"sigmaA_500\":0.28,\"sigmaA_700\":0.33,\"source\":\"Ramprasad\",\"kappa_exp\":\"60\",\"bandgap\":0.70911,\"kappa_bte\":\"nan\",\"ref_exp\":\"MorelliSlack\",\"ref_bte\":\"nan\",\"kappa_aiGK\":\"nan\",\"comment\":\"nan\",\"use\":\"y\",\"n_elements\":2},{\"index\":41,\"qgrid_unfiltered_index\":41,\"space_group\":186,\"n_formula\":2,\"material\":\"ZnS\",\"n_primitive\":4.0,\"mp_id\":\"mp-560588\",\"sigmaA_300\":0.22,\"sigmaA_500\":0.28,\"sigmaA_700\":0.33,\"source\":\"ICSD_exp\",\"kappa_exp\":\"nan\",\"bandgap\":2.16024,\"kappa_bte\":\"nan\",\"ref_exp\":\"nan\",\"ref_bte\":\"nan\",\"kappa_aiGK\":\"nan\",\"comment\":\"nan\",\"use\":\"y\",\"n_elements\":2},{\"index\":42,\"qgrid_unfiltered_index\":42,\"space_group\":186,\"n_formula\":2,\"material\":\"ZnSe\",\"n_primitive\":4.0,\"mp_id\":\"mp-380\",\"sigmaA_300\":0.22,\"sigmaA_500\":0.28,\"sigmaA_700\":0.33,\"source\":\"ICSD_exp\",\"kappa_exp\":\"nan\",\"bandgap\":1.27886,\"kappa_bte\":\"nan\",\"ref_exp\":\"nan\",\"ref_bte\":\"nan\",\"kappa_aiGK\":\"nan\",\"comment\":\"nan\",\"use\":\"y\",\"n_elements\":2},{\"index\":43,\"qgrid_unfiltered_index\":43,\"space_group\":206,\"n_formula\":5,\"material\":\"Sc2O3\",\"n_primitive\":40.0,\"mp_id\":\"mp-216\",\"sigmaA_300\":0.23,\"sigmaA_500\":null,\"sigmaA_700\":null,\"source\":\"Ramprasad\",\"kappa_exp\":\"17\",\"bandgap\":3.86035,\"kappa_bte\":\"nan\",\"ref_exp\":\"nan\",\"ref_bte\":\"nan\",\"kappa_aiGK\":\"r\",\"comment\":\"nan\",\"use\":\"y\",\"n_elements\":2},{\"index\":44,\"qgrid_unfiltered_index\":44,\"space_group\":216,\"n_formula\":2,\"material\":\"AlAs\",\"n_primitive\":2.0,\"mp_id\":\"mp-2172\",\"sigmaA_300\":0.17,\"sigmaA_500\":0.22,\"sigmaA_700\":0.26,\"source\":\"Ramprasad\",\"kappa_exp\":\"98\",\"bandgap\":1.36931,\"kappa_bte\":\"nan\",\"ref_exp\":\"MorelliSlack\",\"ref_bte\":\"nan\",\"kappa_aiGK\":\"nan\",\"comment\":\"nan\",\"use\":\"y\",\"n_elements\":2},{\"index\":45,\"qgrid_unfiltered_index\":45,\"space_group\":216,\"n_formula\":2,\"material\":\"CdS\",\"n_primitive\":2.0,\"mp_id\":\"mp-2469\",\"sigmaA_300\":0.24,\"sigmaA_500\":0.3,\"sigmaA_700\":0.35,\"source\":\"ICSD_exp\",\"kappa_exp\":\"nan\",\"bandgap\":1.0126,\"kappa_bte\":\"nan\",\"ref_exp\":\"nan\",\"ref_bte\":\"nan\",\"kappa_aiGK\":\"nan\",\"comment\":\"nan\",\"use\":\"y\",\"n_elements\":2},{\"index\":46,\"qgrid_unfiltered_index\":46,\"space_group\":216,\"n_formula\":2,\"material\":\"CdTe\",\"n_primitive\":2.0,\"mp_id\":\"mp-406\",\"sigmaA_300\":0.26,\"sigmaA_500\":0.33,\"sigmaA_700\":0.39,\"source\":\"Seko\",\"kappa_exp\":\"7.5\",\"bandgap\":0.62486,\"kappa_bte\":\"6.67\",\"ref_exp\":\"[39] S. L. Shinde and J. S. Goela, High Thermal Conductivity Materials (Springer, Berlin, 2006)\",\"ref_bte\":\"phono3py\",\"kappa_aiGK\":\"nan\",\"comment\":\"nan\",\"use\":\"y\",\"n_elements\":2},{\"index\":47,\"qgrid_unfiltered_index\":47,\"space_group\":216,\"n_formula\":2,\"material\":\"CuBr\",\"n_primitive\":2.0,\"mp_id\":\"mp-22913\",\"sigmaA_300\":0.52,\"sigmaA_500\":0.62,\"sigmaA_700\":0.7,\"source\":\"Ramprasad\",\"kappa_exp\":\"1.25\",\"bandgap\":0.35853,\"kappa_bte\":\"2.75\",\"ref_exp\":\"?\",\"ref_bte\":\"phono3py\",\"kappa_aiGK\":\"nan\",\"comment\":\"nan\",\"use\":\"y\",\"n_elements\":2},{\"index\":48,\"qgrid_unfiltered_index\":48,\"space_group\":216,\"n_formula\":2,\"material\":\"CuCl\",\"n_primitive\":2.0,\"mp_id\":\"mp-22914\",\"sigmaA_300\":0.55,\"sigmaA_500\":0.64,\"sigmaA_700\":0.71,\"source\":\"Ramprasad\",\"kappa_exp\":\"0.84\",\"bandgap\":0.52916,\"kappa_bte\":\"1.26\",\"ref_exp\":\"Slack\\/Andersson\",\"ref_bte\":\"phono3py\",\"kappa_aiGK\":\"0.5 +\\/- 0.2\",\"comment\":\"nan\",\"use\":\"y\",\"n_elements\":2},{\"index\":49,\"qgrid_unfiltered_index\":49,\"space_group\":216,\"n_formula\":2,\"material\":\"CuI\",\"n_primitive\":2.0,\"mp_id\":\"mp-22895\",\"sigmaA_300\":0.37,\"sigmaA_500\":0.46,\"sigmaA_700\":0.53,\"source\":\"Ramprasad\",\"kappa_exp\":\"0.5-1.68\",\"bandgap\":1.06149,\"kappa_bte\":\"7.1\",\"ref_exp\":\"CRC, Grundmann\",\"ref_bte\":\"phono3py\",\"kappa_aiGK\":\"0.8 +\\/- 0.3\",\"comment\":\"nan\",\"use\":\"y\",\"n_elements\":2},{\"index\":50,\"qgrid_unfiltered_index\":50,\"space_group\":216,\"n_formula\":2,\"material\":\"GaAs\",\"n_primitive\":2.0,\"mp_id\":\"mp-2534\",\"sigmaA_300\":0.18,\"sigmaA_500\":0.23,\"sigmaA_700\":0.27,\"source\":\"Ramprasad\",\"kappa_exp\":\"45\",\"bandgap\":0.39279,\"kappa_bte\":\"nan\",\"ref_exp\":\"MorelliSlack\",\"ref_bte\":\"nan\",\"kappa_aiGK\":\"nan\",\"comment\":\"nan\",\"use\":\"y\",\"n_elements\":2},{\"index\":51,\"qgrid_unfiltered_index\":51,\"space_group\":216,\"n_formula\":2,\"material\":\"InAs\",\"n_primitive\":2.0,\"mp_id\":\"mp-20305\",\"sigmaA_300\":0.21,\"sigmaA_500\":0.27,\"sigmaA_700\":0.32,\"source\":\"Ramprasad\",\"kappa_exp\":\"30\",\"bandgap\":0.84199,\"kappa_bte\":\"nan\",\"ref_exp\":\"nan\",\"ref_bte\":\"nan\",\"kappa_aiGK\":\"nan\",\"comment\":\"nan\",\"use\":\"y\",\"n_elements\":2},{\"index\":52,\"qgrid_unfiltered_index\":52,\"space_group\":216,\"n_formula\":2,\"material\":\"ZnS\",\"n_primitive\":2.0,\"mp_id\":\"mp-10695\",\"sigmaA_300\":0.23,\"sigmaA_500\":0.29,\"sigmaA_700\":0.34,\"source\":\"Ramprasad\",\"kappa_exp\":\"27\",\"bandgap\":2.11434,\"kappa_bte\":\"nan\",\"ref_exp\":\"nan\",\"ref_bte\":\"nan\",\"kappa_aiGK\":\"nan\",\"comment\":\"nan\",\"use\":\"y\",\"n_elements\":2},{\"index\":53,\"qgrid_unfiltered_index\":53,\"space_group\":216,\"n_formula\":2,\"material\":\"ZnSe\",\"n_primitive\":2.0,\"mp_id\":\"mp-1190\",\"sigmaA_300\":0.23,\"sigmaA_500\":0.29,\"sigmaA_700\":0.34,\"source\":\"Ramprasad\",\"kappa_exp\":\"19\",\"bandgap\":1.23009,\"kappa_bte\":\"nan\",\"ref_exp\":\"nan\",\"ref_bte\":\"nan\",\"kappa_aiGK\":\"nan\",\"comment\":\"nan\",\"use\":\"y\",\"n_elements\":2},{\"index\":54,\"qgrid_unfiltered_index\":54,\"space_group\":216,\"n_formula\":2,\"material\":\"ZnTe\",\"n_primitive\":2.0,\"mp_id\":\"mp-2176\",\"sigmaA_300\":0.25,\"sigmaA_500\":0.32,\"sigmaA_700\":0.37,\"source\":\"Ramprasad\",\"kappa_exp\":\"18\",\"bandgap\":1.22882,\"kappa_bte\":\"nan\",\"ref_exp\":\"nan\",\"ref_bte\":\"nan\",\"kappa_aiGK\":\"nan\",\"comment\":\"nan\",\"use\":\"y\",\"n_elements\":2},{\"index\":55,\"qgrid_unfiltered_index\":55,\"space_group\":216,\"n_formula\":3,\"material\":\"LiAsMg\",\"n_primitive\":3.0,\"mp_id\":\"mp-12558\",\"sigmaA_300\":0.27,\"sigmaA_500\":0.36,\"sigmaA_700\":0.43,\"source\":\"ICSD_exp\",\"kappa_exp\":\"nan\",\"bandgap\":1.26358,\"kappa_bte\":\"nan\",\"ref_exp\":\"nan\",\"ref_bte\":\"nan\",\"kappa_aiGK\":\"nan\",\"comment\":\"nan\",\"use\":\"y\",\"n_elements\":3},{\"index\":56,\"qgrid_unfiltered_index\":56,\"space_group\":216,\"n_formula\":3,\"material\":\"LiAsZn\",\"n_primitive\":3.0,\"mp_id\":\"mp-9124\",\"sigmaA_300\":0.26,\"sigmaA_500\":0.34,\"sigmaA_700\":0.4,\"source\":\"ICSD_exp\",\"kappa_exp\":\"nan\",\"bandgap\":0.71545,\"kappa_bte\":\"nan\",\"ref_exp\":\"nan\",\"ref_bte\":\"nan\",\"kappa_aiGK\":\"nan\",\"comment\":\"nan\",\"use\":\"y\",\"n_elements\":3},{\"index\":57,\"qgrid_unfiltered_index\":57,\"space_group\":216,\"n_formula\":3,\"material\":\"LiNZn\",\"n_primitive\":3.0,\"mp_id\":\"mp-7575\",\"sigmaA_300\":0.25,\"sigmaA_500\":0.32,\"sigmaA_700\":0.38,\"source\":\"ICSD_exp\",\"kappa_exp\":\"nan\",\"bandgap\":0.72755,\"kappa_bte\":\"nan\",\"ref_exp\":\"nan\",\"ref_bte\":\"nan\",\"kappa_aiGK\":\"nan\",\"comment\":\"nan\",\"use\":\"y\",\"n_elements\":3},{\"index\":58,\"qgrid_unfiltered_index\":58,\"space_group\":216,\"n_formula\":3,\"material\":\"ZnPLi\",\"n_primitive\":3.0,\"mp_id\":\"mp-10182\",\"sigmaA_300\":0.25,\"sigmaA_500\":0.32,\"sigmaA_700\":0.38,\"source\":\"ICSD_exp\",\"kappa_exp\":\"nan\",\"bandgap\":1.17947,\"kappa_bte\":\"nan\",\"ref_exp\":\"nan\",\"ref_bte\":\"nan\",\"kappa_aiGK\":\"nan\",\"comment\":\"nan\",\"use\":\"y\",\"n_elements\":3},{\"index\":59,\"qgrid_unfiltered_index\":59,\"space_group\":221,\"n_formula\":2,\"material\":\"CsBr\",\"n_primitive\":2.0,\"mp_id\":\"mp-22906\",\"sigmaA_300\":0.42,\"sigmaA_500\":0.53,\"sigmaA_700\":0.62,\"source\":\"Ramprasad\",\"kappa_exp\":\"0.94\",\"bandgap\":4.41293,\"kappa_bte\":\"nan\",\"ref_exp\":\"Gerlich\",\"ref_bte\":\"nan\",\"kappa_aiGK\":\"nan\",\"comment\":\"nan\",\"use\":\"y\",\"n_elements\":2},{\"index\":60,\"qgrid_unfiltered_index\":60,\"space_group\":221,\"n_formula\":2,\"material\":\"CsCl\",\"n_primitive\":2.0,\"mp_id\":\"mp-22865\",\"sigmaA_300\":0.39,\"sigmaA_500\":0.51,\"sigmaA_700\":0.6,\"source\":\"Ramprasad\",\"kappa_exp\":\"1\",\"bandgap\":5.20653,\"kappa_bte\":\"nan\",\"ref_exp\":\"Gerlich, Sist\",\"ref_bte\":\"nan\",\"kappa_aiGK\":\"nan\",\"comment\":\"nan\",\"use\":\"y\",\"n_elements\":2},{\"index\":61,\"qgrid_unfiltered_index\":61,\"space_group\":221,\"n_formula\":2,\"material\":\"CsI\",\"n_primitive\":2.0,\"mp_id\":\"mp-1056920\",\"sigmaA_300\":0.4,\"sigmaA_500\":0.51,\"sigmaA_700\":0.6,\"source\":\"Ramprasad\",\"kappa_exp\":\"1.1\",\"bandgap\":3.8117,\"kappa_bte\":\"nan\",\"ref_exp\":\"Gerlich\",\"ref_bte\":\"nan\",\"kappa_aiGK\":\"nan\",\"comment\":\"nan\",\"use\":\"y\",\"n_elements\":2},{\"index\":62,\"qgrid_unfiltered_index\":62,\"space_group\":221,\"n_formula\":5,\"material\":\"BaLiF3\",\"n_primitive\":5.0,\"mp_id\":\"mp-10250\",\"sigmaA_300\":0.27,\"sigmaA_500\":null,\"sigmaA_700\":null,\"source\":\"Roekeghem\",\"kappa_exp\":\"nan\",\"bandgap\":6.23118,\"kappa_bte\":\"2.21\",\"ref_exp\":\"nan\",\"ref_bte\":\"nan\",\"kappa_aiGK\":\"y\",\"comment\":\"nan\",\"use\":\"y\",\"n_elements\":3},{\"index\":63,\"qgrid_unfiltered_index\":63,\"space_group\":221,\"n_formula\":5,\"material\":\"CsCaF3\",\"n_primitive\":5.0,\"mp_id\":\"mp-7104\",\"sigmaA_300\":0.26,\"sigmaA_500\":null,\"sigmaA_700\":null,\"source\":\"Roekeghem\",\"kappa_exp\":\"nan\",\"bandgap\":6.895,\"kappa_bte\":\"nan\",\"ref_exp\":\"nan\",\"ref_bte\":\"nan\",\"kappa_aiGK\":\"nan\",\"comment\":\"nan\",\"use\":\"y\",\"n_elements\":3},{\"index\":64,\"qgrid_unfiltered_index\":64,\"space_group\":221,\"n_formula\":5,\"material\":\"CsCdF3\",\"n_primitive\":5.0,\"mp_id\":\"mp-8399\",\"sigmaA_300\":0.32,\"sigmaA_500\":null,\"sigmaA_700\":null,\"source\":\"Roekeghem\",\"kappa_exp\":\"nan\",\"bandgap\":3.308,\"kappa_bte\":\"nan\",\"ref_exp\":\"nan\",\"ref_bte\":\"nan\",\"kappa_aiGK\":\"nan\",\"comment\":\"nan\",\"use\":\"y\",\"n_elements\":3},{\"index\":65,\"qgrid_unfiltered_index\":65,\"space_group\":221,\"n_formula\":5,\"material\":\"KMgF3\",\"n_primitive\":5.0,\"mp_id\":\"mp-3448\",\"sigmaA_300\":0.24,\"sigmaA_500\":null,\"sigmaA_700\":null,\"source\":\"Roekeghem\",\"kappa_exp\":\"10?\",\"bandgap\":7.02234,\"kappa_bte\":\"8.2\",\"ref_exp\":\"Martin\",\"ref_bte\":\"Roekeghem\",\"kappa_aiGK\":\"4.6 +\\/- 1.2\",\"comment\":\"nan\",\"use\":\"y\",\"n_elements\":3},{\"index\":66,\"qgrid_unfiltered_index\":66,\"space_group\":221,\"n_formula\":5,\"material\":\"KZnF3\",\"n_primitive\":5.0,\"mp_id\":\"mp-5878\",\"sigmaA_300\":0.32,\"sigmaA_500\":null,\"sigmaA_700\":null,\"source\":\"Roekeghem\",\"kappa_exp\":\"5.5\",\"bandgap\":3.72441,\"kappa_bte\":\"4.15\",\"ref_exp\":\"Suemune\",\"ref_bte\":\"Roekeghem\",\"kappa_aiGK\":\"3.5 +\\/- 1.6\",\"comment\":\"nan\",\"use\":\"y\",\"n_elements\":3},{\"index\":67,\"qgrid_unfiltered_index\":67,\"space_group\":221,\"n_formula\":5,\"material\":\"RbMgF3\",\"n_primitive\":5.0,\"mp_id\":\"mp-8402\",\"sigmaA_300\":0.23,\"sigmaA_500\":null,\"sigmaA_700\":null,\"source\":\"Roekeghem\",\"kappa_exp\":\"nan\",\"bandgap\":6.99362,\"kappa_bte\":\"4.5\",\"ref_exp\":\"nan\",\"ref_bte\":\"Roekeghem\",\"kappa_aiGK\":\"1.4 +\\/- 1.9\",\"comment\":\"nan\",\"use\":\"y\",\"n_elements\":3},{\"index\":68,\"qgrid_unfiltered_index\":68,\"space_group\":221,\"n_formula\":5,\"material\":\"RbZnF3\",\"n_primitive\":null,\"mp_id\":\"mp-xxxx\",\"sigmaA_300\":0.3,\"sigmaA_500\":null,\"sigmaA_700\":null,\"source\":\"Roekeghem\",\"kappa_exp\":\"nan\",\"bandgap\":3.3287,\"kappa_bte\":\"2.46\",\"ref_exp\":\"nan\",\"ref_bte\":\"Roekeghem\",\"kappa_aiGK\":\"y\",\"comment\":\"nan\",\"use\":\"y\",\"n_elements\":3},{\"index\":69,\"qgrid_unfiltered_index\":69,\"space_group\":221,\"n_formula\":5,\"material\":\"SrTiO3\",\"n_primitive\":5.0,\"mp_id\":\"mp-5229\",\"sigmaA_300\":0.28,\"sigmaA_500\":null,\"sigmaA_700\":null,\"source\":\"Toberer\",\"kappa_exp\":\"10.5\",\"bandgap\":1.76179,\"kappa_bte\":\"6.4-8.5\",\"ref_exp\":\"Muta, Popuri\",\"ref_bte\":\"Roekeghem, Tadano\",\"kappa_aiGK\":\"nan\",\"comment\":\"nan\",\"use\":\"y\",\"n_elements\":3},{\"index\":70,\"qgrid_unfiltered_index\":70,\"space_group\":225,\"n_formula\":2,\"material\":\"AgBr\",\"n_primitive\":2.0,\"mp_id\":\"mp-23231\",\"sigmaA_300\":0.48,\"sigmaA_500\":0.59,\"sigmaA_700\":0.66,\"source\":\"Ramprasad\",\"kappa_exp\":\"1.1\",\"bandgap\":0.4961,\"kappa_bte\":\"nan\",\"ref_exp\":\"Kamram\",\"ref_bte\":\"nan\",\"kappa_aiGK\":\"0.5 +\\/- 0.1\",\"comment\":\"nan\",\"use\":\"y\",\"n_elements\":2},{\"index\":71,\"qgrid_unfiltered_index\":71,\"space_group\":225,\"n_formula\":2,\"material\":\"AgCl\",\"n_primitive\":2.0,\"mp_id\":\"mp-22922\",\"sigmaA_300\":0.5,\"sigmaA_500\":0.62,\"sigmaA_700\":0.7,\"source\":\"Ramprasad\",\"kappa_exp\":\"0.9-1\",\"bandgap\":0.72526,\"kappa_bte\":\"0.67\",\"ref_exp\":\"Ross, Ashqari\",\"ref_bte\":\"aapl\",\"kappa_aiGK\":\"0.6 +\\/- 0.1\",\"comment\":\"nan\",\"use\":\"y\",\"n_elements\":2},{\"index\":72,\"qgrid_unfiltered_index\":72,\"space_group\":225,\"n_formula\":2,\"material\":\"BaO\",\"n_primitive\":2.0,\"mp_id\":\"mp-1342\",\"sigmaA_300\":0.44,\"sigmaA_500\":0.57,\"sigmaA_700\":0.66,\"source\":\"Ramprasad\",\"kappa_exp\":\"2.3\",\"bandgap\":1.81325,\"kappa_bte\":\"2.99\",\"ref_exp\":\"MorelliSlack\",\"ref_bte\":\"aapl\",\"kappa_aiGK\":\"2.0 +\\/- 0.1\",\"comment\":\"nan\",\"use\":\"y\",\"n_elements\":2},{\"index\":73,\"qgrid_unfiltered_index\":73,\"space_group\":225,\"n_formula\":2,\"material\":\"BaS\",\"n_primitive\":2.0,\"mp_id\":\"mp-1500\",\"sigmaA_300\":0.25,\"sigmaA_500\":0.34,\"sigmaA_700\":0.4,\"source\":\"ICSD_exp\",\"kappa_exp\":\"nan\",\"bandgap\":2.04849,\"kappa_bte\":\"nan\",\"ref_exp\":\"nan\",\"ref_bte\":\"nan\",\"kappa_aiGK\":\"nan\",\"comment\":\"nan\",\"use\":\"y\",\"n_elements\":2},{\"index\":74,\"qgrid_unfiltered_index\":74,\"space_group\":225,\"n_formula\":2,\"material\":\"BaSe\",\"n_primitive\":2.0,\"mp_id\":\"mp-1253\",\"sigmaA_300\":0.23,\"sigmaA_500\":0.3,\"sigmaA_700\":0.37,\"source\":\"ICSD_exp\",\"kappa_exp\":\"nan\",\"bandgap\":1.90755,\"kappa_bte\":\"nan\",\"ref_exp\":\"nan\",\"ref_bte\":\"nan\",\"kappa_aiGK\":\"nan\",\"comment\":\"nan\",\"use\":\"y\",\"n_elements\":2},{\"index\":75,\"qgrid_unfiltered_index\":75,\"space_group\":225,\"n_formula\":2,\"material\":\"BaTe\",\"n_primitive\":2.0,\"mp_id\":\"mp-1000\",\"sigmaA_300\":0.22,\"sigmaA_500\":0.28,\"sigmaA_700\":0.32,\"source\":\"ICSD_exp\",\"kappa_exp\":\"nan\",\"bandgap\":1.55286,\"kappa_bte\":\"nan\",\"ref_exp\":\"nan\",\"ref_bte\":\"nan\",\"kappa_aiGK\":\"nan\",\"comment\":\"nan\",\"use\":\"y\",\"n_elements\":2},{\"index\":76,\"qgrid_unfiltered_index\":76,\"space_group\":225,\"n_formula\":2,\"material\":\"CaO\",\"n_primitive\":2.0,\"mp_id\":\"mp-2605\",\"sigmaA_300\":0.2,\"sigmaA_500\":0.26,\"sigmaA_700\":0.31,\"source\":\"AAPL\",\"kappa_exp\":\"27\",\"bandgap\":3.424,\"kappa_bte\":\"20.4\",\"ref_exp\":\"MorelliSlack\",\"ref_bte\":\"aapl\",\"kappa_aiGK\":\"18.6 +\\/- 9.3\",\"comment\":\"nan\",\"use\":\"y\",\"n_elements\":2},{\"index\":77,\"qgrid_unfiltered_index\":77,\"space_group\":225,\"n_formula\":2,\"material\":\"CaTe\",\"n_primitive\":2.0,\"mp_id\":\"mp-1519\",\"sigmaA_300\":0.23,\"sigmaA_500\":0.3,\"sigmaA_700\":0.35,\"source\":\"ICSD_exp\",\"kappa_exp\":\"nan\",\"bandgap\":1.36099,\"kappa_bte\":\"nan\",\"ref_exp\":\"nan\",\"ref_bte\":\"nan\",\"kappa_aiGK\":\"nan\",\"comment\":\"nan\",\"use\":\"y\",\"n_elements\":2},{\"index\":78,\"qgrid_unfiltered_index\":78,\"space_group\":225,\"n_formula\":2,\"material\":\"CsF\",\"n_primitive\":2.0,\"mp_id\":\"mp-1784\",\"sigmaA_300\":0.42,\"sigmaA_500\":0.53,\"sigmaA_700\":0.61,\"source\":\"ICSD_exp\",\"kappa_exp\":\"nan\",\"bandgap\":5.34049,\"kappa_bte\":\"nan\",\"ref_exp\":\"nan\",\"ref_bte\":\"nan\",\"kappa_aiGK\":\"nan\",\"comment\":\"nan\",\"use\":\"y\",\"n_elements\":2},{\"index\":79,\"qgrid_unfiltered_index\":79,\"space_group\":225,\"n_formula\":2,\"material\":\"KBr\",\"n_primitive\":2.0,\"mp_id\":\"mp-23251\",\"sigmaA_300\":0.41,\"sigmaA_500\":0.53,\"sigmaA_700\":0.62,\"source\":\"Ramprasad\",\"kappa_exp\":\"2.8-3.4\",\"bandgap\":4.33223,\"kappa_bte\":\"2.38\",\"ref_exp\":\"Andersson, MorelliSlack\",\"ref_bte\":\"aapl\",\"kappa_aiGK\":\"nan\",\"comment\":\"nan\",\"use\":\"y\",\"n_elements\":2},{\"index\":80,\"qgrid_unfiltered_index\":80,\"space_group\":225,\"n_formula\":2,\"material\":\"KCl\",\"n_primitive\":2.0,\"mp_id\":\"mp-23193\",\"sigmaA_300\":0.43,\"sigmaA_500\":0.56,\"sigmaA_700\":0.65,\"source\":\"Ramprasad\",\"kappa_exp\":\"6.5-7.1\",\"bandgap\":5.01389,\"kappa_bte\":\"3.77\",\"ref_exp\":\"Andersson, MorelliSlack\",\"ref_bte\":\"aapl\",\"kappa_aiGK\":\"nan\",\"comment\":\"nan\",\"use\":\"y\",\"n_elements\":2},{\"index\":81,\"qgrid_unfiltered_index\":81,\"space_group\":225,\"n_formula\":2,\"material\":\"KF\",\"n_primitive\":2.0,\"mp_id\":\"mp-463\",\"sigmaA_300\":0.41,\"sigmaA_500\":0.54,\"sigmaA_700\":0.63,\"source\":\"Ramprasad\",\"kappa_exp\":\"6.43\",\"bandgap\":6.03611,\"kappa_bte\":\"nan\",\"ref_exp\":\"MorelliSlack\",\"ref_bte\":\"nan\",\"kappa_aiGK\":\"nan\",\"comment\":\"nan\",\"use\":\"y\",\"n_elements\":2},{\"index\":82,\"qgrid_unfiltered_index\":82,\"space_group\":225,\"n_formula\":2,\"material\":\"KH\",\"n_primitive\":2.0,\"mp_id\":\"mp-24084\",\"sigmaA_300\":0.35,\"sigmaA_500\":0.46,\"sigmaA_700\":0.54,\"source\":\"ICSD_exp\",\"kappa_exp\":\"nan\",\"bandgap\":3.22984,\"kappa_bte\":\"nan\",\"ref_exp\":\"nan\",\"ref_bte\":\"nan\",\"kappa_aiGK\":\"nan\",\"comment\":\"nan\",\"use\":\"y\",\"n_elements\":2},{\"index\":83,\"qgrid_unfiltered_index\":83,\"space_group\":225,\"n_formula\":2,\"material\":\"KI\",\"n_primitive\":2.0,\"mp_id\":\"mp-22898\",\"sigmaA_300\":0.39,\"sigmaA_500\":0.5,\"sigmaA_700\":0.59,\"source\":\"Ramprasad\",\"kappa_exp\":\"1.96-2.6\",\"bandgap\":3.84587,\"kappa_bte\":\"1.46\",\"ref_exp\":\"Andersson, MorelliSlack\",\"ref_bte\":\"aapl\",\"kappa_aiGK\":\"nan\",\"comment\":\"nan\",\"use\":\"y\",\"n_elements\":2},{\"index\":84,\"qgrid_unfiltered_index\":84,\"space_group\":225,\"n_formula\":2,\"material\":\"LiBr\",\"n_primitive\":2.0,\"mp_id\":\"mp-23259\",\"sigmaA_300\":0.4,\"sigmaA_500\":0.52,\"sigmaA_700\":0.61,\"source\":\"Ramprasad\",\"kappa_exp\":\"1.83\",\"bandgap\":4.98315,\"kappa_bte\":\"nan\",\"ref_exp\":\"Hakansson\",\"ref_bte\":\"nan\",\"kappa_aiGK\":\"nan\",\"comment\":\"nan\",\"use\":\"y\",\"n_elements\":2},{\"index\":85,\"qgrid_unfiltered_index\":85,\"space_group\":225,\"n_formula\":2,\"material\":\"LiCl\",\"n_primitive\":2.0,\"mp_id\":\"mp-22905\",\"sigmaA_300\":0.38,\"sigmaA_500\":0.5,\"sigmaA_700\":0.59,\"source\":\"ICSD_exp\",\"kappa_exp\":\"nan\",\"bandgap\":6.27972,\"kappa_bte\":\"nan\",\"ref_exp\":\"nan\",\"ref_bte\":\"nan\",\"kappa_aiGK\":\"nan\",\"comment\":\"nan\",\"use\":\"y\",\"n_elements\":2},{\"index\":86,\"qgrid_unfiltered_index\":86,\"space_group\":225,\"n_formula\":2,\"material\":\"LiF\",\"n_primitive\":2.0,\"mp_id\":\"mp-1138\",\"sigmaA_300\":0.3,\"sigmaA_500\":0.4,\"sigmaA_700\":0.49,\"source\":\"Ramprasad\",\"kappa_exp\":\"17.6\",\"bandgap\":8.96504,\"kappa_bte\":\"nan\",\"ref_exp\":\"nan\",\"ref_bte\":\"nan\",\"kappa_aiGK\":\"nan\",\"comment\":\"nan\",\"use\":\"y\",\"n_elements\":2},{\"index\":87,\"qgrid_unfiltered_index\":87,\"space_group\":225,\"n_formula\":2,\"material\":\"LiH\",\"n_primitive\":2.0,\"mp_id\":\"mp-23703\",\"sigmaA_300\":0.26,\"sigmaA_500\":0.34,\"sigmaA_700\":0.4,\"source\":\"Ramprasad\",\"kappa_exp\":\"15\",\"bandgap\":2.74428,\"kappa_bte\":\"nan\",\"ref_exp\":\"nan\",\"ref_bte\":\"nan\",\"kappa_aiGK\":\"nan\",\"comment\":\"nan\",\"use\":\"y\",\"n_elements\":2},{\"index\":88,\"qgrid_unfiltered_index\":88,\"space_group\":225,\"n_formula\":2,\"material\":\"LiI\",\"n_primitive\":2.0,\"mp_id\":\"mp-22899\",\"sigmaA_300\":0.47,\"sigmaA_500\":0.62,\"sigmaA_700\":0.72,\"source\":\"ICSD_exp\",\"kappa_exp\":\"nan\",\"bandgap\":4.3116,\"kappa_bte\":\"nan\",\"ref_exp\":\"nan\",\"ref_bte\":\"nan\",\"kappa_aiGK\":\"nan\",\"comment\":\"nan\",\"use\":\"y\",\"n_elements\":2},{\"index\":89,\"qgrid_unfiltered_index\":89,\"space_group\":225,\"n_formula\":2,\"material\":\"MgO\",\"n_primitive\":2.0,\"mp_id\":\"mp-1265\",\"sigmaA_300\":0.17,\"sigmaA_500\":0.22,\"sigmaA_700\":0.26,\"source\":\"Ramprasad\",\"kappa_exp\":\"60\",\"bandgap\":4.49137,\"kappa_bte\":\"54\",\"ref_exp\":\"MorelliSlack\",\"ref_bte\":\"aapl\",\"kappa_aiGK\":\"44.2 +- 7.6\",\"comment\":\"nan\",\"use\":\"y\",\"n_elements\":2},{\"index\":90,\"qgrid_unfiltered_index\":90,\"space_group\":225,\"n_formula\":2,\"material\":\"NaBr\",\"n_primitive\":2.0,\"mp_id\":\"mp-22916\",\"sigmaA_300\":0.39,\"sigmaA_500\":0.5,\"sigmaA_700\":0.59,\"source\":\"Ramprasad\",\"kappa_exp\":\"2.3-2.8\",\"bandgap\":4.06496,\"kappa_bte\":\"2.74\",\"ref_exp\":\"Sigalas, MorelliSlack\",\"ref_bte\":\"aapl\",\"kappa_aiGK\":\"1.4 +\\/- 1.4\",\"comment\":\"nan\",\"use\":\"y\",\"n_elements\":2},{\"index\":91,\"qgrid_unfiltered_index\":91,\"space_group\":225,\"n_formula\":2,\"material\":\"NaCl\",\"n_primitive\":2.0,\"mp_id\":\"mp-22862\",\"sigmaA_300\":0.36,\"sigmaA_500\":0.48,\"sigmaA_700\":0.56,\"source\":\"Ramprasad\",\"kappa_exp\":\"6-7.1\",\"bandgap\":4.97135,\"kappa_bte\":\"6.5\",\"ref_exp\":\"Hakansson, MorelliSlack\",\"ref_bte\":\"aapl, Ravichandran\\/Broido\",\"kappa_aiGK\":\"5.1 +\\/- 4.6\",\"comment\":\"nan\",\"use\":\"y\",\"n_elements\":2},{\"index\":92,\"qgrid_unfiltered_index\":92,\"space_group\":225,\"n_formula\":2,\"material\":\"NaF\",\"n_primitive\":2.0,\"mp_id\":\"mp-682\",\"sigmaA_300\":0.33,\"sigmaA_500\":0.44,\"sigmaA_700\":0.53,\"source\":\"Ramprasad\",\"kappa_exp\":\"16.5\",\"bandgap\":6.12049,\"kappa_bte\":\"21.1\",\"ref_exp\":\"MorelliSlack\",\"ref_bte\":\"aapl\",\"kappa_aiGK\":\"8.0 +\\/- 3.6\",\"comment\":\"nan\",\"use\":\"y\",\"n_elements\":2},{\"index\":93,\"qgrid_unfiltered_index\":93,\"space_group\":225,\"n_formula\":2,\"material\":\"NaI\",\"n_primitive\":2.0,\"mp_id\":\"mp-23268\",\"sigmaA_300\":0.36,\"sigmaA_500\":0.45,\"sigmaA_700\":0.53,\"source\":\"Ramprasad\",\"kappa_exp\":\"1.33-1.8\",\"bandgap\":3.58291,\"kappa_bte\":\"1.46\",\"ref_exp\":\"Hakansson, MorelliSlack\",\"ref_bte\":\"aapl\",\"kappa_aiGK\":\"0.7 +\\/- 0.1\",\"comment\":\"nan\",\"use\":\"y\",\"n_elements\":2},{\"index\":94,\"qgrid_unfiltered_index\":94,\"space_group\":225,\"n_formula\":2,\"material\":\"PbTe\",\"n_primitive\":2.0,\"mp_id\":\"mp-19717\",\"sigmaA_300\":0.29,\"sigmaA_500\":0.37,\"sigmaA_700\":0.44,\"source\":\"AAPL\",\"kappa_exp\":\"2.5\",\"bandgap\":0.542,\"kappa_bte\":\"1.73\",\"ref_exp\":\"[80]\",\"ref_bte\":\"aapl\",\"kappa_aiGK\":\"nan\",\"comment\":\"Z=82\",\"use\":\"nan\",\"n_elements\":2},{\"index\":95,\"qgrid_unfiltered_index\":95,\"space_group\":225,\"n_formula\":2,\"material\":\"RbBr\",\"n_primitive\":2.0,\"mp_id\":\"mp-22867\",\"sigmaA_300\":0.44,\"sigmaA_500\":0.55,\"sigmaA_700\":0.64,\"source\":\"Ramprasad\",\"kappa_exp\":\"3.38-3.8\",\"bandgap\":4.15981,\"kappa_bte\":\"1.68\",\"ref_exp\":\"Andersson, MorelliSlack\",\"ref_bte\":\"aapl\",\"kappa_aiGK\":\"nan\",\"comment\":\"nan\",\"use\":\"y\",\"n_elements\":2},{\"index\":96,\"qgrid_unfiltered_index\":96,\"space_group\":225,\"n_formula\":2,\"material\":\"RbCl\",\"n_primitive\":2.0,\"mp_id\":\"mp-23295\",\"sigmaA_300\":0.36,\"sigmaA_500\":0.46,\"sigmaA_700\":0.53,\"source\":\"Ramprasad\",\"kappa_exp\":\"2.41-2.8\",\"bandgap\":4.85091,\"kappa_bte\":\"nan\",\"ref_exp\":\"Andersson, MorelliSlack\",\"ref_bte\":\"nan\",\"kappa_aiGK\":\"nan\",\"comment\":\"nan\",\"use\":\"y\",\"n_elements\":2},{\"index\":97,\"qgrid_unfiltered_index\":97,\"space_group\":225,\"n_formula\":2,\"material\":\"RbF\",\"n_primitive\":2.0,\"mp_id\":\"mp-11718\",\"sigmaA_300\":0.41,\"sigmaA_500\":0.54,\"sigmaA_700\":0.63,\"source\":\"Ramprasad\",\"kappa_exp\":\"2.27\",\"bandgap\":5.51033,\"kappa_bte\":\"nan\",\"ref_exp\":\"Hakansson\",\"ref_bte\":\"nan\",\"kappa_aiGK\":\"nan\",\"comment\":\"nan\",\"use\":\"y\",\"n_elements\":2},{\"index\":98,\"qgrid_unfiltered_index\":98,\"space_group\":225,\"n_formula\":2,\"material\":\"RbI\",\"n_primitive\":2.0,\"mp_id\":\"mp-22903\",\"sigmaA_300\":0.41,\"sigmaA_500\":0.52,\"sigmaA_700\":0.6,\"source\":\"Ramprasad\",\"kappa_exp\":\"1.98-2.3\",\"bandgap\":3.80509,\"kappa_bte\":\"1.64\",\"ref_exp\":\"Andersson, MorelliSlack\",\"ref_bte\":\"aapl\",\"kappa_aiGK\":\"nan\",\"comment\":\"nan\",\"use\":\"y\",\"n_elements\":2},{\"index\":99,\"qgrid_unfiltered_index\":99,\"space_group\":225,\"n_formula\":2,\"material\":\"SnTe\",\"n_primitive\":2.0,\"mp_id\":\"mp-1883\",\"sigmaA_300\":0.45,\"sigmaA_500\":0.58,\"sigmaA_700\":0.66,\"source\":\"Ramprasad\",\"kappa_exp\":\"1.5\",\"bandgap\":0.11677,\"kappa_bte\":\"nan\",\"ref_exp\":\"Spitzer\",\"ref_bte\":\"nan\",\"kappa_aiGK\":\"nan\",\"comment\":\"bandluecke\",\"use\":\"nan\",\"n_elements\":2}]}",
       "_df_range": [
        0,
        100
       ],
       "_dom_classes": [],
       "_editable_rows": {},
       "_index_col_name": "qgrid_unfiltered_index",
       "_interval_columns": [],
       "_model_module": "qgrid",
       "_model_module_version": "^1.1.3",
       "_model_name": "QgridModel",
       "_multi_index": false,
       "_row_count": 118,
       "_row_styles": {},
       "_sort_ascending": true,
       "_sort_field": null,
       "_view_count": null,
       "_view_module": "qgrid",
       "_view_module_version": "^1.1.3",
       "_view_name": "QgridView",
       "_viewport_range": [
        0,
        100
       ],
       "grid_options": {
        "autoEdit": false,
        "boldIndex": true,
        "defaultColumnWidth": 150,
        "editable": true,
        "enableColumnReorder": false,
        "enableTextSelectionOnCells": true,
        "explicitInitialization": true,
        "filterable": true,
        "forceFitColumns": true,
        "fullWidthRows": true,
        "highlightSelectedCell": false,
        "highlightSelectedRow": true,
        "maxVisibleRows": 15,
        "minVisibleRows": 8,
        "rowHeight": 28,
        "sortable": true,
        "syncColumnCellResize": true
       },
       "id": "eacb72ea-3db4-435a-98d8-d191f15a0751",
       "layout": "IPY_MODEL_41461a02c7584e7c9f0717e2c7a36ae3",
       "precision": 5,
       "show_toolbar": false
      }
     },
     "41461a02c7584e7c9f0717e2c7a36ae3": {
      "model_module": "@jupyter-widgets/base",
      "model_module_version": "1.2.0",
      "model_name": "LayoutModel",
      "state": {
       "_model_module": "@jupyter-widgets/base",
       "_model_module_version": "1.2.0",
       "_model_name": "LayoutModel",
       "_view_count": null,
       "_view_module": "@jupyter-widgets/base",
       "_view_module_version": "1.2.0",
       "_view_name": "LayoutView",
       "align_content": null,
       "align_items": null,
       "align_self": null,
       "border": null,
       "bottom": null,
       "display": null,
       "flex": null,
       "flex_flow": null,
       "grid_area": null,
       "grid_auto_columns": null,
       "grid_auto_flow": null,
       "grid_auto_rows": null,
       "grid_column": null,
       "grid_gap": null,
       "grid_row": null,
       "grid_template_areas": null,
       "grid_template_columns": null,
       "grid_template_rows": null,
       "height": null,
       "justify_content": null,
       "justify_items": null,
       "left": null,
       "margin": null,
       "max_height": null,
       "max_width": null,
       "min_height": null,
       "min_width": null,
       "object_fit": null,
       "object_position": null,
       "order": null,
       "overflow": null,
       "overflow_x": null,
       "overflow_y": null,
       "padding": null,
       "right": null,
       "top": null,
       "visibility": null,
       "width": null
      }
     }
    },
    "version_major": 2,
    "version_minor": 0
   }
  }
 },
 "nbformat": 4,
 "nbformat_minor": 4
}
