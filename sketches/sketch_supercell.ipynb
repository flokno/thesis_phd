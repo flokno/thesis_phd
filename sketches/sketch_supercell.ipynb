{
 "cells": [
  {
   "cell_type": "code",
   "execution_count": 1,
   "metadata": {},
   "outputs": [],
   "source": [
    "import numpy as np\n",
    "from matplotlib import pyplot as plt\n",
    "\n",
    "\n",
    "%matplotlib inline"
   ]
  },
  {
   "cell_type": "code",
   "execution_count": 51,
   "metadata": {},
   "outputs": [],
   "source": [
    "a1 = np.array([1, 0])\n",
    "a2 = np.array([0, 1])\n",
    "\n",
    "blue = \"#5759aa\"\n",
    "\n",
    "w = 0.25\n",
    "kw_arrow = {\"head_width\": w, \"head_length\": w, \"fc\": \"k\", \"ec\": \"k\", \"lw\": 2}\n",
    "kw_arrow_2 = {**kw_arrow, \"fc\": blue, \"ec\": blue}\n",
    "\n",
    "kw0 = {\"color\": \"k\", \"lw\": 1}\n",
    "kw1 = {\"marker\": \"o\", \"ms\": 10, **kw0}\n",
    "kw2 = {\"marker\": \"o\", \"ms\": 10, \"mfc\": \"w\", **kw0}"
   ]
  },
  {
   "cell_type": "code",
   "execution_count": 52,
   "metadata": {},
   "outputs": [
    {
     "data": {
      "image/png": "[encoded data removed]",
      "text/plain": [
       "<Figure size 432x288 with 1 Axes>"
      ]
     },
     "metadata": {},
     "output_type": "display_data"
    }
   ],
   "source": [
    "N = 4\n",
    "\n",
    "lps = []\n",
    "for (ii, jj) in np.ndindex((N, N)):\n",
    "    lps.append(ii * a1 + jj * a2)\n",
    "\n",
    "elps = []\n",
    "\n",
    "for nn in range(N + 1):\n",
    "    elps.append(nn * a1 + (N) * a2)\n",
    "    elps.append(nn * a2 + (N) * a1)\n",
    "\n",
    "# plot\n",
    "fig, ax = plt.subplots()\n",
    "\n",
    "# cage\n",
    "plt.plot([0, 0], [0, N], **kw0)\n",
    "plt.plot([0, N], [N, N], **kw0)\n",
    "plt.plot([N, N], [N, 0], **kw0)\n",
    "plt.plot([N, 0], [0, 0], **kw0)\n",
    "\n",
    "for p in lps:\n",
    "    plt.plot(*p, **kw1)\n",
    "\n",
    "for p in elps:\n",
    "    plt.plot(*p, **kw2)\n",
    "\n",
    "for spine in (\"left\", \"bottom\", \"right\", \"top\"):\n",
    "    ax.spines[spine].set_visible(False)\n",
    "\n",
    "ax.set_xticks([])\n",
    "ax.set_yticks([])\n",
    "ax.set_aspect(\"equal\")\n",
    "\n",
    "# midpoint\n",
    "# plt.plot([N / 2, N / 2], [N / 2, N / 2], marker=\"x\", ms=25, mew=4)  # , c=\"#9c4c36\")\n",
    "plt.plot([N / 2, N / 2], [N / 2, N / 2], **{**kw1, \"color\": blue})\n",
    "\n",
    "# arrows\n",
    "ax.arrow(N / 2, N / 2, 1 - w, 0, **kw_arrow_2)\n",
    "ax.arrow(N / 2, N / 2, 0, 1 - w, **kw_arrow_2)\n",
    "\n",
    "ax.arrow(0, 0, N - w, 0, **kw_arrow)\n",
    "ax.arrow(0, 0, 0, N - w, **kw_arrow)\n",
    "\n",
    "fig.savefig(f\"{N:d}_sc.pdf\", bbox_inches=\"tight\")"
   ]
  },
  {
   "cell_type": "code",
   "execution_count": 50,
   "metadata": {},
   "outputs": [
    {
     "data": {
      "image/png": "[encoded data removed]",
      "text/plain": [
       "<Figure size 432x288 with 1 Axes>"
      ]
     },
     "metadata": {},
     "output_type": "display_data"
    }
   ],
   "source": [
    "N = 3\n",
    "\n",
    "lps = []\n",
    "for (ii, jj) in np.ndindex((N, N)):\n",
    "    lps.append(ii * a1 + jj * a2)\n",
    "\n",
    "# plot\n",
    "fig, ax = plt.subplots()\n",
    "\n",
    "# cage\n",
    "plt.plot([0, 0], [0, N], **kw0)\n",
    "plt.plot([0, N], [N, N], **kw0)\n",
    "plt.plot([N, N], [N, 0], **kw0)\n",
    "plt.plot([N, 0], [0, 0], **kw0)\n",
    "\n",
    "for p in lps:\n",
    "    plt.plot(*(p + 0.5), **kw1)\n",
    "\n",
    "for spine in (\"left\", \"bottom\", \"right\", \"top\"):\n",
    "    ax.spines[spine].set_visible(False)\n",
    "\n",
    "ax.set_xticks([])\n",
    "ax.set_yticks([])\n",
    "ax.set_aspect(\"equal\")\n",
    "\n",
    "# midpoint\n",
    "# plt.plot([N / 2, N / 2], [N / 2, N / 2], marker=\"x\", ms=25, mew=4)  # , c=\"#9c4c36\")\n",
    "plt.plot([N / 2, N / 2], [N / 2, N / 2], **{**kw1, \"color\": blue})\n",
    "\n",
    "# arrows\n",
    "ax.arrow(N / 2, N / 2, 1 - w, 0, **kw_arrow_2)\n",
    "ax.arrow(N / 2, N / 2, 0, 1 - w, **kw_arrow_2)\n",
    "\n",
    "ax.arrow(0, 0, N - w, 0, **kw_arrow)\n",
    "ax.arrow(0, 0, 0, N - w, **kw_arrow)\n",
    "\n",
    "fig.savefig(f\"{N:d}_sc.pdf\", bbox_inches=\"tight\")"
   ]
  },
  {
   "cell_type": "code",
   "execution_count": null,
   "metadata": {},
   "outputs": [],
   "source": []
  },
  {
   "cell_type": "code",
   "execution_count": null,
   "metadata": {},
   "outputs": [],
   "source": []
  }
 ],
 "metadata": {
  "kernelspec": {
   "display_name": "Python 3",
   "language": "python",
   "name": "python3"
  },
  "language_info": {
   "codemirror_mode": {
    "name": "ipython",
    "version": 3
   },
   "file_extension": ".py",
   "mimetype": "text/x-python",
   "name": "python",
   "nbconvert_exporter": "python",
   "pygments_lexer": "ipython3",
   "version": "3.8.1"
  }
 },
 "nbformat": 4,
 "nbformat_minor": 4
}
