{
 "cells": [
  {
   "cell_type": "code",
   "execution_count": 1,
   "metadata": {},
   "outputs": [],
   "source": [
    "from scipy import constants as sc"
   ]
  },
  {
   "cell_type": "markdown",
   "metadata": {},
   "source": [
    "de Broglie wavelength:\n",
    "$$\n",
    "\\begin{align}\n",
    "    \\lambda = \\frac{h}{p}\n",
    "\\end{align}\n",
    "$$\n",
    "\n",
    "estimate momentum $p$ via thermal energy:\n",
    "$$\n",
    "\\begin{align}\n",
    "    \\frac{p^2}{2m} &= kT \\\\\n",
    "    \\Rightarrow p  &= \\sqrt{2 m k T} \\\\\n",
    "    \\Rightarrow \\lambda  &= \\frac{h}{\\sqrt{2 m k T}}\n",
    "\\end{align}\n",
    "$$\n",
    "\n",
    "Setting:\n",
    "$$\n",
    "\\begin{align}\n",
    "    h &= 6.62607015 \\cdot 10^{-34} \\, {\\rm Js} \\\\\n",
    "    m &= 1.67262192369 \\cdot 10^{-27} \\, {\\rm kg} \\\\\n",
    "    k &= 1.380649 \\cdot 10^{-23} \\, {\\rm J/K} \\\\\n",
    "    T &= 300 \\, {\\rm K}\n",
    "\\end{align}\n",
    "$$"
   ]
  },
  {
   "cell_type": "code",
   "execution_count": 2,
   "metadata": {},
   "outputs": [
    {
     "data": {
      "text/plain": [
       "3.3640377043708234e-11"
      ]
     },
     "execution_count": 2,
     "metadata": {},
     "output_type": "execute_result"
    }
   ],
   "source": [
    "h = sc.Planck\n",
    "m = sc.proton_mass * 28\n",
    "k = sc.Boltzmann\n",
    "T = 300\n",
    "\n",
    "p = (2 * m * k * T) ** 0.5\n",
    "\n",
    "h / p"
   ]
  },
  {
   "cell_type": "code",
   "execution_count": 3,
   "metadata": {},
   "outputs": [
    {
     "data": {
      "text/plain": [
       "3.3640377043708234e-11"
      ]
     },
     "execution_count": 3,
     "metadata": {},
     "output_type": "execute_result"
    }
   ],
   "source": [
    "l = h / p\n",
    "l"
   ]
  },
  {
   "cell_type": "code",
   "execution_count": 4,
   "metadata": {},
   "outputs": [
    {
     "data": {
      "text/plain": [
       "0.14626250888568798"
      ]
     },
     "execution_count": 4,
     "metadata": {},
     "output_type": "execute_result"
    }
   ],
   "source": [
    "# nearest neighbor distance in silicon is\n",
    "d = 2.3e-10  # \\AA\n",
    "\n",
    "l / d"
   ]
  },
  {
   "cell_type": "code",
   "execution_count": null,
   "metadata": {},
   "outputs": [],
   "source": []
  }
 ],
 "metadata": {
  "kernelspec": {
   "display_name": "Python 3",
   "language": "python",
   "name": "python3"
  },
  "language_info": {
   "codemirror_mode": {
    "name": "ipython",
    "version": 3
   },
   "file_extension": ".py",
   "mimetype": "text/x-python",
   "name": "python",
   "nbconvert_exporter": "python",
   "pygments_lexer": "ipython3",
   "version": "3.8.1"
  }
 },
 "nbformat": 4,
 "nbformat_minor": 4
}
