{
 "cells": [
  {
   "cell_type": "code",
   "execution_count": 1,
   "metadata": {},
   "outputs": [],
   "source": [
    "%autoreload\n",
    "\n",
    "from ase.io import read\n",
    "\n",
    "from vibes.harmonic_analysis.force_constants import reshape_force_constants\n",
    "from vibes.helpers.lattice import fractional\n",
    "from vibes.helpers.lattice_points import get_lattice_points, map_I_to_iL\n",
    "from vibes.io import parse_force_constants\n",
    "from vibes.harmonic_analysis.dynamical_matrix import get_frequencies\n",
    "from vibes.helpers.brillouinzone import get_bands_and_labels"
   ]
  },
  {
   "cell_type": "code",
   "execution_count": 2,
   "metadata": {},
   "outputs": [],
   "source": [
    "atoms = read(\"geometry.in.primitive\", format=\"aims\")\n",
    "\n",
    "primitive = read(\"geometry.in.primitive\", format=\"aims\")\n",
    "supercell = read(\"geometry.in.supercell\", format=\"aims\")\n",
    "\n",
    "fc = parse_force_constants(\n",
    "    \"FORCE_CONSTANTS\",\n",
    "    primitive=primitive,\n",
    "    supercell=supercell,\n",
    "    two_dim=False,\n",
    "    symmetrize=True,\n",
    ")"
   ]
  },
  {
   "cell_type": "code",
   "execution_count": 3,
   "metadata": {},
   "outputs": [
    {
     "data": {
      "text/plain": [
       "['G', 'X', 'U|K', 'G', 'L']"
      ]
     },
     "execution_count": 3,
     "metadata": {},
     "output_type": "execute_result"
    }
   ],
   "source": [
    "bands, labels = get_bands_and_labels(primitive, npoints=50)\n",
    "path = bands[0]\n",
    "labels"
   ]
  },
  {
   "cell_type": "code",
   "execution_count": 4,
   "metadata": {},
   "outputs": [
    {
     "name": "stdout",
     "output_type": "stream",
     "text": [
      "[mode]         .. found 32 (31) lattice points in 0.001s\n"
     ]
    }
   ],
   "source": [
    "lps, elps = get_lattice_points(primitive.cell, supercell.cell)"
   ]
  },
  {
   "cell_type": "code",
   "execution_count": 5,
   "metadata": {},
   "outputs": [
    {
     "name": "stdout",
     "output_type": "stream",
     "text": [
      "[mode]         .. matched 96 positions in supercell and primitive cell in 0.237s\n"
     ]
    }
   ],
   "source": [
    "I_to_iL = map_I_to_iL(primitive, supercell, lattice_points=lps)"
   ]
  },
  {
   "cell_type": "code",
   "execution_count": 6,
   "metadata": {},
   "outputs": [
    {
     "name": "stdout",
     "output_type": "stream",
     "text": [
      "[0. 0. 0.]\n",
      "1\n",
      "[ 0.        -2.5356776 -2.5356776]\n",
      "1\n",
      "[ 2.5356776  0.        -2.5356776]\n",
      "1\n",
      "[-2.5356776  0.        -2.5356776]\n",
      "1\n",
      "[ 2.5356776 -2.5356776  0.       ]\n",
      "1\n",
      "[-2.5356776 -2.5356776  0.       ]\n",
      "1\n",
      "[ 0.         2.5356776 -2.5356776]\n",
      "1\n",
      "[ 0.        -2.5356776  2.5356776]\n",
      "1\n",
      "[2.5356776 2.5356776 0.       ]\n",
      "1\n",
      "[-2.5356776  2.5356776  0.       ]\n",
      "1\n",
      "[2.5356776 0.        2.5356776]\n",
      "1\n",
      "[-2.5356776  0.         2.5356776]\n",
      "1\n",
      "[0.        2.5356776 2.5356776]\n",
      "1\n",
      "[ 0.          0.         -5.07135519]\n",
      "2\n",
      "[ 0.         -5.07135519  0.        ]\n",
      "2\n",
      "[-5.07135519  0.          0.        ]\n",
      "2\n",
      "[ 2.5356776  -2.5356776  -5.07135519]\n",
      "2\n",
      "[-2.5356776  -2.5356776  -5.07135519]\n",
      "2\n",
      "[ 2.5356776  -5.07135519 -2.5356776 ]\n",
      "2\n",
      "[-2.5356776  -5.07135519 -2.5356776 ]\n",
      "2\n",
      "[ 2.5356776   2.5356776  -5.07135519]\n",
      "2\n",
      "[-2.5356776   2.5356776  -5.07135519]\n",
      "2\n",
      "[-5.07135519 -2.5356776  -2.5356776 ]\n",
      "2\n",
      "[-5.07135519  2.5356776  -2.5356776 ]\n",
      "2\n",
      "[ 2.5356776  -5.07135519  2.5356776 ]\n",
      "2\n",
      "[-2.5356776  -5.07135519  2.5356776 ]\n",
      "2\n",
      "[-5.07135519 -2.5356776   2.5356776 ]\n",
      "2\n",
      "[-5.07135519  2.5356776   2.5356776 ]\n",
      "2\n",
      "[ 0.         -5.07135519 -5.07135519]\n",
      "4\n",
      "[-5.07135519  0.         -5.07135519]\n",
      "4\n",
      "[-5.07135519 -5.07135519  0.        ]\n",
      "4\n",
      "[-5.07135519 -5.07135519 -5.07135519]\n",
      "8\n"
     ]
    }
   ],
   "source": [
    "for (lp, elp) in zip(lps, elps):\n",
    "    print((lp))\n",
    "    print(len(elp))"
   ]
  },
  {
   "cell_type": "code",
   "execution_count": 7,
   "metadata": {},
   "outputs": [],
   "source": [
    "def _prefactor(q, r):\n",
    "    r\"\"\"Get the prefactor `exp(-2*\\pi*i * q @ r)`\"\"\"\n",
    "    phase = -2.0j * np.pi * q @ r\n",
    "    # print(phase / np.pi)\n",
    "    return np.exp(phase)\n",
    "\n",
    "\n",
    "def get_dynamical_matrices(q_points, primitive, supercell, force_constants, tol=1e-9):\n",
    "    \"\"\"build the dynamical matrix for each q_point\n",
    "\n",
    "    Parameters\n",
    "    ----------\n",
    "    q_points: list of np.ndarray\n",
    "        The list of q-points to build they dynamical matrix at\n",
    "    primitive: ase.atoms.Atoms\n",
    "        The primitive cell structure\n",
    "    supercell: ase.atoms.Atoms\n",
    "        The supecell structure\n",
    "    force_constants: np.ndarray\n",
    "        The force constant matrix\n",
    "    eps: float\n",
    "        computer tolerance\n",
    "\n",
    "    Returns\n",
    "    -------\n",
    "    list of np.ndarray\n",
    "        They dynamical matrix at each point in q_points\n",
    "    \"\"\"\n",
    "\n",
    "    lattice_points, extended_lattice_points = get_lattice_points(\n",
    "        primitive.cell, supercell.cell\n",
    "    )\n",
    "\n",
    "    sc_center = 0.5 * supercell.cell.sum(axis=0)\n",
    "\n",
    "    force_constants_reshaped = reshape_force_constants(\n",
    "        primitive,\n",
    "        supercell,\n",
    "        force_constants,\n",
    "        lattice_points=lattice_points,\n",
    "        scale_mass=True,\n",
    "        symmetrize=False,\n",
    "    )\n",
    "\n",
    "    n_prim = len(primitive)\n",
    "\n",
    "    ppos = primitive.positions\n",
    "\n",
    "    dyn_matrices = []\n",
    "\n",
    "    for qq in q_points:\n",
    "        dyn_matrix = np.zeros([n_prim, n_prim, 3, 3], dtype=complex)\n",
    "\n",
    "        for LL, shell in enumerate(extended_lattice_points):\n",
    "            weight = len(shell)\n",
    "\n",
    "            for _, lp in enumerate(shell):\n",
    "\n",
    "                for ii in range(n_prim):\n",
    "                    for jj in range(n_prim):\n",
    "\n",
    "                        # is r_j + R_L - r_i in extended supercell i.e. [-0.5, 0.5]?\n",
    "                        r_ij = -ppos[ii] + ppos[jj]\n",
    "                        R_ij_frac = fractional(r_ij + lp, supercell.cell)\n",
    "\n",
    "                        # effectively map atom into supercell\n",
    "                        R = R_ij_frac\n",
    "                        d =  0.5 - np.sign(R) * tol\n",
    "                        lp_temp = lp - supercell.cell @ (R - ((R + d) % 1 - d))\n",
    "\n",
    "                        q_frac = primitive.cell.reciprocal().T @ qq\n",
    "                        prefactor = _prefactor(q_frac, lp_temp) / weight\n",
    "                        dyn_matrix[ii, jj, :, :] += (\n",
    "                            prefactor * force_constants_reshaped[ii, 0, jj, LL]\n",
    "                        )\n",
    "\n",
    "        # check hermiticity\n",
    "        d_ij = dyn_matrix.swapaxes(1, 2).reshape(3 * n_prim, 3 * n_prim)\n",
    "\n",
    "        d_ij = 0.5 * (d_ij + d_ij.T.conj())\n",
    "\n",
    "        diff = np.linalg.norm(d_ij - d_ij.conj().T)\n",
    "        assert diff < 1e-12, (diff, d_ij)\n",
    "\n",
    "        dyn_matrices.append(d_ij)\n",
    "\n",
    "    return np.array(dyn_matrices)"
   ]
  },
  {
   "cell_type": "code",
   "execution_count": 8,
   "metadata": {
    "scrolled": true
   },
   "outputs": [
    {
     "name": "stdout",
     "output_type": "stream",
     "text": [
      "[mode]         .. found 32 (31) lattice points in 0.002s\n",
      "[phonopy.utils] remap force constants\n",
      "[phonopy.utils] .. use fortran\n",
      "[phonopy.utils] .. time elapsed: 0.110s\n",
      "** Warning from file vibes/phonopy/utils.py, line 361, function remap_force_constants:\n",
      "--> Force constants are not symmetric by 7.84e-01.\n",
      "\n",
      "** Warning from file vibes/phonopy/utils.py, line 370, function remap_force_constants:\n",
      "--> Sum rule violated by 3.23e-02 (axis 1).\n",
      "\n",
      "[mode]         .. matched 96 positions in supercell and primitive cell in 0.245s\n"
     ]
    }
   ],
   "source": [
    "kw = {'primitive': primitive, 'supercell': supercell, 'force_constants': fc}\n",
    "dynmats = get_dynamical_matrices(path, **kw)"
   ]
  },
  {
   "cell_type": "code",
   "execution_count": 9,
   "metadata": {},
   "outputs": [],
   "source": [
    "x = []\n",
    "band = np.zeros((len(path), len(primitive) ** 2))\n",
    "\n",
    "for ii, q in enumerate(zip(path)):\n",
    "    x.append(np.linalg.norm(q) / np.pi)\n",
    "\n",
    "    D = dynmats[ii]\n",
    "    freqs = get_frequencies(D)\n",
    "    band[ii] = freqs"
   ]
  },
  {
   "cell_type": "code",
   "execution_count": 10,
   "metadata": {},
   "outputs": [
    {
     "data": {
      "image/png": "[encoded data removed]",
      "text/plain": [
       "<Figure size 432x288 with 1 Axes>"
      ]
     },
     "metadata": {
      "needs_background": "light"
     },
     "output_type": "display_data"
    }
   ],
   "source": [
    "for ii in range(band.shape[1]):\n",
    "    plt.plot(x, band[:, ii])"
   ]
  },
  {
   "cell_type": "code",
   "execution_count": null,
   "metadata": {},
   "outputs": [],
   "source": []
  }
 ],
 "metadata": {
  "kernelspec": {
   "display_name": "Python 3",
   "language": "python",
   "name": "python3"
  },
  "language_info": {
   "codemirror_mode": {
    "name": "ipython",
    "version": 3
   },
   "file_extension": ".py",
   "mimetype": "text/x-python",
   "name": "python",
   "nbconvert_exporter": "python",
   "pygments_lexer": "ipython3",
   "version": "3.8.1"
  }
 },
 "nbformat": 4,
 "nbformat_minor": 4
}
