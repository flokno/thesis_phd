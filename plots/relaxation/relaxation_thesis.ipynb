{
 "cells": [
  {
   "cell_type": "code",
   "execution_count": 1,
   "metadata": {},
   "outputs": [],
   "source": [
    "import numpy as np\n",
    "import pandas as pd\n",
    "\n",
    "from matplotlib import pyplot as plt\n",
    "\n",
    "%matplotlib inline"
   ]
  },
  {
   "cell_type": "code",
   "execution_count": 2,
   "metadata": {},
   "outputs": [],
   "source": [
    "import seaborn as sns\n",
    "\n",
    "sns.set_context(\"talk\")\n",
    "\n",
    "plt.style.use(\"thesis.mplstyle\")"
   ]
  },
  {
   "cell_type": "code",
   "execution_count": 3,
   "metadata": {},
   "outputs": [],
   "source": [
    "data_ltrm = np.loadtxt(\"ltrm/relax.dat\")\n",
    "data_trm = np.loadtxt(\"trm_2012/relax.dat\")"
   ]
  },
  {
   "cell_type": "code",
   "execution_count": 4,
   "metadata": {},
   "outputs": [
    {
     "data": {
      "text/html": [
       "<div>\n",
       "<style scoped>\n",
       "    .dataframe tbody tr th:only-of-type {\n",
       "        vertical-align: middle;\n",
       "    }\n",
       "\n",
       "    .dataframe tbody tr th {\n",
       "        vertical-align: top;\n",
       "    }\n",
       "\n",
       "    .dataframe thead th {\n",
       "        text-align: right;\n",
       "    }\n",
       "</style>\n",
       "<table border=\"1\" class=\"dataframe\">\n",
       "  <thead>\n",
       "    <tr style=\"text-align: right;\">\n",
       "      <th></th>\n",
       "      <th>trm\\_2012</th>\n",
       "      <th>trm</th>\n",
       "    </tr>\n",
       "  </thead>\n",
       "  <tbody>\n",
       "    <tr>\n",
       "      <th>1.0</th>\n",
       "      <td>1509.340</td>\n",
       "      <td>1509.34000</td>\n",
       "    </tr>\n",
       "    <tr>\n",
       "      <th>2.0</th>\n",
       "      <td>754.339</td>\n",
       "      <td>832.61100</td>\n",
       "    </tr>\n",
       "    <tr>\n",
       "      <th>3.0</th>\n",
       "      <td>189.607</td>\n",
       "      <td>165.93300</td>\n",
       "    </tr>\n",
       "    <tr>\n",
       "      <th>4.0</th>\n",
       "      <td>144.810</td>\n",
       "      <td>36.20780</td>\n",
       "    </tr>\n",
       "    <tr>\n",
       "      <th>5.0</th>\n",
       "      <td>202.008</td>\n",
       "      <td>2.13568</td>\n",
       "    </tr>\n",
       "  </tbody>\n",
       "</table>\n",
       "</div>"
      ],
      "text/plain": [
       "     trm\\_2012         trm\n",
       "1.0   1509.340  1509.34000\n",
       "2.0    754.339   832.61100\n",
       "3.0    189.607   165.93300\n",
       "4.0    144.810    36.20780\n",
       "5.0    202.008     2.13568"
      ]
     },
     "execution_count": 4,
     "metadata": {},
     "output_type": "execute_result"
    }
   ],
   "source": [
    "df1 = pd.DataFrame({\"trm\": data_ltrm[:, 4],}, index=data_ltrm[:, 0])\n",
    "\n",
    "df2 = pd.DataFrame({\"trm\\_2012\": data_trm[:, 4],}, index=data_trm[:, 0])\n",
    "\n",
    "df = df2.join(df1)\n",
    "df.head()"
   ]
  },
  {
   "cell_type": "code",
   "execution_count": 5,
   "metadata": {},
   "outputs": [
    {
     "data": {
      "image/png": "[encoded data removed]",
      "text/plain": [
       "<Figure size 324x324 with 1 Axes>"
      ]
     },
     "metadata": {
      "needs_background": "light"
     },
     "output_type": "display_data"
    }
   ],
   "source": [
    "fig, ax = plt.subplots(figsize=(4.5, 4.5))\n",
    "\n",
    "kw = {\"ls\": \"-\", \"ms\": 10, \"lw\": 1, \"label\": \"_nolegend_\", \"legend\": False}\n",
    "\n",
    "c1 = \"#1f1916\"\n",
    "c2 = \"C0\"\n",
    "\n",
    "df2.plot(ax=ax, marker=\"s\", c=c2, **kw)\n",
    "df1.plot(ax=ax, marker=\"o\", c=c1, **kw)\n",
    "\n",
    "ax.set_yscale(\"log\")\n",
    "ax.axhline(1, c=\"k\")\n",
    "ax.set_xlim([0, 12])\n",
    "ax.set_xlabel(\"No. of relaxation steps\")\n",
    "ax.set_ylabel(\"$|f_x|$ (meV/$\\AA^3$)\", rotation=90)\n",
    "# .yaxis.labelpad = 40\n",
    "\n",
    "ax.set_xticks(np.arange(13))\n",
    "ax.set_title(\"Full relaxation of Si (fcc diamond)\")\n",
    "\n",
    "y = 0.3\n",
    "ax.text(3, y, \"trm\", c=c1)\n",
    "ax.text(6.5, y, \"trm\\_2012\", c=c2)\n",
    "\n",
    "fig.savefig(\"ltrm.pdf\", bbox_inches=\"tight\")"
   ]
  },
  {
   "cell_type": "code",
   "execution_count": null,
   "metadata": {},
   "outputs": [],
   "source": []
  }
 ],
 "metadata": {
  "kernelspec": {
   "display_name": "Python 3",
   "language": "python",
   "name": "python3"
  },
  "language_info": {
   "codemirror_mode": {
    "name": "ipython",
    "version": 3
   },
   "file_extension": ".py",
   "mimetype": "text/x-python",
   "name": "python",
   "nbconvert_exporter": "python",
   "pygments_lexer": "ipython3",
   "version": "3.8.1"
  }
 },
 "nbformat": 4,
 "nbformat_minor": 2
}
