{
 "cells": [
  {
   "cell_type": "code",
   "execution_count": 1,
   "metadata": {},
   "outputs": [],
   "source": [
    "from matplotlib import pyplot as plt\n",
    "import pandas as pd"
   ]
  },
  {
   "cell_type": "code",
   "execution_count": 28,
   "metadata": {},
   "outputs": [],
   "source": [
    "plt.style.use(\"../plots.mplstyle\")\n",
    "fontsize = plt.rcParams[\"font.size\"]\n",
    "\n",
    "cmap = plt.get_cmap(\"tab10\")"
   ]
  },
  {
   "cell_type": "code",
   "execution_count": 15,
   "metadata": {},
   "outputs": [
    {
     "data": {
      "text/plain": [
       "Index(['Material', 'spacegroup', 'md', 'os'], dtype='object')"
      ]
     },
     "execution_count": 15,
     "metadata": {},
     "output_type": "execute_result"
    }
   ],
   "source": [
    "df = pd.read_csv(\"sigma_os_md.csv\")\n",
    "\n",
    "df.rename(\n",
    "    columns={\"Space_Group\": \"spacegroup\", \"sigma_md\": \"md\", \"sigma_os\": \"os\"},\n",
    "    inplace=True,\n",
    ")\n",
    "\n",
    "df_zb = df[df.spacegroup == 216]\n",
    "df_rs = df[df.spacegroup == 225]\n",
    "df_wz = df[df.spacegroup == 186]\n",
    "df_pe = df[df.spacegroup == 62]\n",
    "\n",
    "df.columns"
   ]
  },
  {
   "cell_type": "code",
   "execution_count": 45,
   "metadata": {},
   "outputs": [
    {
     "data": {
      "text/plain": [
       "[<matplotlib.axis.YTick at 0x152ec77f0a30>,\n",
       " <matplotlib.axis.YTick at 0x152ec77f05e0>]"
      ]
     },
     "execution_count": 45,
     "metadata": {},
     "output_type": "execute_result"
    },
    {
     "data": {
      "image/png": "[encoded data removed]",
      "text/plain": [
       "<Figure size 295.2x196.56 with 1 Axes>"
      ]
     },
     "metadata": {
      "needs_background": "light"
     },
     "output_type": "display_data"
    }
   ],
   "source": [
    "fig, ax = plt.subplots()\n",
    "fig.set_size_inches(4.1, 2.73)\n",
    "\n",
    "xy = {'x': 'md', 'y': 'os'}\n",
    "kw = {'ax': ax}\n",
    "\n",
    "df_zb.plot.scatter(**xy, marker='D', color=cmap(0), **kw)\n",
    "df_rs.plot.scatter(**xy, marker='s', color=cmap(1), **kw)\n",
    "df_wz.plot.scatter(**xy, marker='H', color=cmap(2), **kw)\n",
    "df_pe.plot.scatter(**xy, marker='^', color=cmap(3), **kw)\n",
    "\n",
    "xmin = 0.07\n",
    "ax.plot([xmin, 10], [xmin, 10])\n",
    "\n",
    "ax.set_xscale('log')\n",
    "ax.set_yscale('log')\n",
    "ax.set_aspect(1)\n",
    "\n",
    "ax.set_xlim([xmin, 3])\n",
    "ax.set_ylim([xmin, 1])\n",
    "\n",
    "xticks = [0.1, 0.3, 0.4, 0.5, 1, 2]\n",
    "ax.set_xticks(xticks)\n",
    "ax.set_xticklabels(xticks)\n",
    "ax.set_yticks([0.1, 1])"
   ]
  },
  {
   "cell_type": "code",
   "execution_count": null,
   "metadata": {},
   "outputs": [],
   "source": []
  }
 ],
 "metadata": {
  "kernelspec": {
   "display_name": "Python 3",
   "language": "python",
   "name": "python3"
  },
  "language_info": {
   "codemirror_mode": {
    "name": "ipython",
    "version": 3
   },
   "file_extension": ".py",
   "mimetype": "text/x-python",
   "name": "python",
   "nbconvert_exporter": "python",
   "pygments_lexer": "ipython3",
   "version": "3.8.1"
  }
 },
 "nbformat": 4,
 "nbformat_minor": 4
}
